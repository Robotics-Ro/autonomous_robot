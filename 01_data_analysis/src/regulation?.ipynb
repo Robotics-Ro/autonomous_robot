{
 "cells": [
  {
   "cell_type": "code",
   "execution_count": 1,
   "id": "ee2c1fbe",
   "metadata": {},
   "outputs": [],
   "source": [
    "import re"
   ]
  },
  {
   "cell_type": "code",
   "execution_count": 2,
   "id": "37c808a4",
   "metadata": {},
   "outputs": [],
   "source": [
    "search_target = '''Luke Skywarker 02-123-4567 luke@daum.net\n",
    "다스베이더 070-9999-9999 darth_vader@gmail.com 서울시 서초구 서초동 서초아파트\n",
    "princess leia 010 2454 3457 leia@gmail.com'''"
   ]
  },
  {
   "cell_type": "code",
   "execution_count": 3,
   "id": "a37d578e",
   "metadata": {},
   "outputs": [
    {
     "data": {
      "text/plain": [
       "'02'"
      ]
     },
     "execution_count": 3,
     "metadata": {},
     "output_type": "execute_result"
    }
   ],
   "source": [
    "re.search('\\d+', search_target).group()"
   ]
  },
  {
   "cell_type": "code",
   "execution_count": 4,
   "id": "7cfaec62",
   "metadata": {},
   "outputs": [
    {
     "data": {
      "text/plain": [
       "'02-123-4567'"
      ]
     },
     "execution_count": 4,
     "metadata": {},
     "output_type": "execute_result"
    }
   ],
   "source": [
    "re.search('\\d+-\\d+-\\d+', search_target).group()"
   ]
  },
  {
   "cell_type": "code",
   "execution_count": 5,
   "id": "85dc4fe5",
   "metadata": {},
   "outputs": [
    {
     "data": {
      "text/plain": [
       "['02-123-4567', '070-9999-9999']"
      ]
     },
     "execution_count": 5,
     "metadata": {},
     "output_type": "execute_result"
    }
   ],
   "source": [
    "re.findall('\\d+-\\d+-\\d+', search_target)"
   ]
  },
  {
   "cell_type": "code",
   "execution_count": 6,
   "id": "0e914a77",
   "metadata": {},
   "outputs": [
    {
     "data": {
      "text/plain": [
       "['luke@daum.net', 'darth_vader@gmail.com', 'leia@gmail.com']"
      ]
     },
     "execution_count": 6,
     "metadata": {},
     "output_type": "execute_result"
    }
   ],
   "source": [
    "re.findall('\\w+@\\w+[.]\\w+', search_target)"
   ]
  },
  {
   "cell_type": "code",
   "execution_count": 7,
   "id": "43a1a87a",
   "metadata": {},
   "outputs": [
    {
     "data": {
      "text/plain": [
       "['다스베이더', '서울시', '서초구', '서초동', '서초아파트']"
      ]
     },
     "execution_count": 7,
     "metadata": {},
     "output_type": "execute_result"
    }
   ],
   "source": [
    "re.findall('[가-힣]+', search_target)"
   ]
  },
  {
   "cell_type": "code",
   "execution_count": 8,
   "id": "e070cf42",
   "metadata": {},
   "outputs": [
    {
     "data": {
      "text/plain": [
       "['서울시 서초구 서초동']"
      ]
     },
     "execution_count": 8,
     "metadata": {},
     "output_type": "execute_result"
    }
   ],
   "source": [
    "re.findall('[가-힣]+시\\s[가-힣]+구\\s[가-힣]+동', search_target)"
   ]
  },
  {
   "cell_type": "code",
   "execution_count": 9,
   "id": "fd7b9212",
   "metadata": {},
   "outputs": [
    {
     "data": {
      "text/plain": [
       "(95, 100)"
      ]
     },
     "execution_count": 9,
     "metadata": {},
     "output_type": "execute_result"
    }
   ],
   "source": [
    "re.search('[가-힣]+아파트', search_target).span()"
   ]
  },
  {
   "cell_type": "code",
   "execution_count": 10,
   "id": "5087795a",
   "metadata": {},
   "outputs": [
    {
     "data": {
      "text/plain": [
       "'서초아파트'"
      ]
     },
     "execution_count": 10,
     "metadata": {},
     "output_type": "execute_result"
    }
   ],
   "source": [
    "search_target[95:100]"
   ]
  },
  {
   "cell_type": "code",
   "execution_count": null,
   "id": "742ab76a",
   "metadata": {},
   "outputs": [],
   "source": []
  }
 ],
 "metadata": {
  "kernelspec": {
   "display_name": "data_venv",
   "language": "python",
   "name": "python3"
  },
  "language_info": {
   "codemirror_mode": {
    "name": "ipython",
    "version": 3
   },
   "file_extension": ".py",
   "mimetype": "text/x-python",
   "name": "python",
   "nbconvert_exporter": "python",
   "pygments_lexer": "ipython3",
   "version": "3.8.10 (default, Nov 14 2022, 12:59:47) \n[GCC 9.4.0]"
  },
  "vscode": {
   "interpreter": {
    "hash": "6288ecbda94c44731bd517e8e3a9546afeba19dde6c58790bc825d76b6fd82c6"
   }
  }
 },
 "nbformat": 4,
 "nbformat_minor": 5
}
