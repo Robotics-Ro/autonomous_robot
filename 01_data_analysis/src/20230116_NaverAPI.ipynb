{
 "cells": [
  {
   "cell_type": "markdown",
   "id": "96a49bea",
   "metadata": {},
   "source": [
    "# 1.네이버 API 사용 등록"
   ]
  },
  {
   "cell_type": "markdown",
   "id": "fd128f93",
   "metadata": {},
   "source": [
    "- 네이버 개발자 센터\n",
    "- https://devlopers.naver.com/main/\n",
    "- Application\n",
    "    - 어플리케이션 등록\n",
    "    - 어플리케이션 이름 amr\n",
    "    - 사용 API\n",
    "        - 검색\n",
    "        - 데이터랩(검색어트렌드)\n",
    "        - 데이터랩(쇼핑인사이트)\n",
    "    - 환경추가\n",
    "        - WEB 설정\n",
    "        - http://localhost\n",
    "    - Client ID:\n",
    "    - Client Secret:\n",
    "    - https://developers.naver.com/docs/serviceapi/search/blog/blog.md#python"
   ]
  },
  {
   "cell_type": "markdown",
   "id": "961838a3",
   "metadata": {},
   "source": [
    "# 2. 네이버 API 검색 사용하기"
   ]
  },
  {
   "cell_type": "markdown",
   "id": "4f56f1ae",
   "metadata": {},
   "source": [
    "- urllib : http 프로토콜에 따라서 서버의 요청/응답을 처리하기 위한 모듈\n",
    "- urllib.request : 클라이언트의 요청을 처리하는 모듈\n",
    "- urllib.parse : url 주소에 대한 분석\n"
   ]
  },
  {
   "cell_type": "markdown",
   "id": "8fa2313b",
   "metadata": {},
   "source": [
    "# 검색: 블로그"
   ]
  },
  {
   "cell_type": "code",
   "execution_count": null,
   "id": "a878eaa8",
   "metadata": {},
   "outputs": [],
   "source": []
  },
  {
   "cell_type": "code",
   "execution_count": 4,
   "id": "5d7f72a6",
   "metadata": {},
   "outputs": [
    {
     "name": "stdout",
     "output_type": "stream",
     "text": [
      "{\n",
      "\t\"lastBuildDate\":\"Mon, 16 Jan 2023 14:26:47 +0900\",\n",
      "\t\"total\":48215485,\n",
      "\t\"start\":1,\n",
      "\t\"display\":10,\n",
      "\t\"items\":[\n",
      "\t\t{\n",
      "\t\t\t\"title\":\"휘황찬란했던 제주 도두동 <b>맛집<\\/b>\",\n",
      "\t\t\t\"link\":\"https:\\/\\/blog.naver.com\\/totoro0604\\/222983159637\",\n",
      "\t\t\t\"description\":\"엊그제에는 친구들과 제주 여행을 갔다가 제주 도두동 <b>맛집<\\/b>을 방문하게 됐는데요. 뛰어난 재료 맛을... 보자마자 미소가 번지던 제주 도두동 <b>맛집<\\/b>의 모둠 해산물은 6가지 이상으로 해서 무척 다채로웠어요. 전복... \",\n",
      "\t\t\t\"bloggername\":\"핸들이 고장난 8톤 트럭\",\n",
      "\t\t\t\"bloggerlink\":\"blog.naver.com\\/totoro0604\",\n",
      "\t\t\t\"postdate\":\"20230113\"\n",
      "\t\t},\n",
      "\t\t{\n",
      "\t\t\t\"title\":\"풍부하게 누린 대포항 대게 <b>맛집<\\/b>\",\n",
      "\t\t\t\"link\":\"https:\\/\\/blog.naver.com\\/gracefulduck\\/222983497758\",\n",
      "\t\t\t\"description\":\"최근에 강원도 여행 다녀온 친구들이 추천받아 다녀온 대포항 대게<b>맛집<\\/b>에 방문했었던 후기에욤... 1층에는 대포항 대게 <b>맛집<\\/b> 수족관들이 펼쳐져 있었는데요. 각종 갑각류가 이리저리 활개를 치고 있는걸보니... \",\n",
      "\t\t\t\"bloggername\":\"오리도 새인데 날 수 있겠지.\",\n",
      "\t\t\t\"bloggerlink\":\"blog.naver.com\\/gracefulduck\",\n",
      "\t\t\t\"postdate\":\"20230113\"\n",
      "\t\t},\n",
      "\t\t{\n",
      "\t\t\t\"title\":\"매우 흡족했던 제주 성산항 <b>맛집<\\/b>\",\n",
      "\t\t\t\"link\":\"https:\\/\\/blog.naver.com\\/rnjsdydcks9\\/222978984806\",\n",
      "\t\t\t\"description\":\"얼마 전에는 친구들과 힐링하러 제주에 갔다가 현지인이 소개해 준 제주 성산항 <b>맛집<\\/b>을 찾아갔어요... 가장 먼저 제주 성산항 <b>맛집<\\/b> 샐러드부터 집어먹어 보았어요 아삭하고 고소한 드레싱까지 더해져서... \",\n",
      "\t\t\t\"bloggername\":\"권군의 이야기\",\n",
      "\t\t\t\"bloggerlink\":\"blog.naver.com\\/rnjsdydcks9\",\n",
      "\t\t\t\"postdate\":\"20230109\"\n",
      "\t\t},\n",
      "\t\t{\n",
      "\t\t\t\"title\":\"매력적인 제주 신화월드 <b>맛집<\\/b>\",\n",
      "\t\t\t\"link\":\"https:\\/\\/blog.naver.com\\/tvpeople_\\/222981211155\",\n",
      "\t\t\t\"description\":\"얼마전 친구들과 우정여행으로 떠난 제주도에서 꼭 들려봐야 한다는 제주 신화월드 <b>맛집<\\/b>에... 제주의 향토 음식 뿐만 아니라 은갈치까지 함께 맛볼 수 있던 제주 신화월드 <b>맛집<\\/b>의 메뉴를 주문하였답니다.... \",\n",
      "\t\t\t\"bloggername\":\"EASY COFFEE\",\n",
      "\t\t\t\"bloggerlink\":\"blog.naver.com\\/tvpeople_\",\n",
      "\t\t\t\"postdate\":\"20230111\"\n",
      "\t\t},\n",
      "\t\t{\n",
      "\t\t\t\"title\":\"정갈했던 제주시 아침식사 <b>맛집<\\/b>\",\n",
      "\t\t\t\"link\":\"https:\\/\\/blog.naver.com\\/pruejoux\\/222982732881\",\n",
      "\t\t\t\"description\":\"친구와 애월 해안도로를 산책하다 보니 독특한 외관의 제주시 아침식사 <b>맛집<\\/b>이 보였어요. 정갈한... 제주시 아침식사 <b>맛집<\\/b>은 셀프코너에서 여러 반찬을 가져올 수 있었어요. 이른 시간인데도 각각의 통에 음식을... \",\n",
      "\t\t\t\"bloggername\":\"prue :)\",\n",
      "\t\t\t\"bloggerlink\":\"blog.naver.com\\/pruejoux\",\n",
      "\t\t\t\"postdate\":\"20230112\"\n",
      "\t\t},\n",
      "\t\t{\n",
      "\t\t\t\"title\":\"인정하는 제주도 애월 흑돼지 <b>맛집<\\/b>\",\n",
      "\t\t\t\"link\":\"https:\\/\\/blog.naver.com\\/kjin4001\\/222982477632\",\n",
      "\t\t\t\"description\":\"지난주 친구들과 함께 제주여행을 갔다가 평점 높은 제주도 애월 흑돼지 <b>맛집<\\/b>에 방문했어요. 신선한... 개수도 넉넉해서 아이를 동반해서 식사하러 들르기 좋은 제주도 애월 흑돼지 <b>맛집<\\/b>이었어요. 벽면에는... \",\n",
      "\t\t\t\"bloggername\":\"그래그래마녀의 해피하우스\",\n",
      "\t\t\t\"bloggerlink\":\"blog.naver.com\\/kjin4001\",\n",
      "\t\t\t\"postdate\":\"20230112\"\n",
      "\t\t},\n",
      "\t\t{\n",
      "\t\t\t\"title\":\"만족스러웠던 화성 남양 <b>맛집<\\/b>\",\n",
      "\t\t\t\"link\":\"https:\\/\\/blog.naver.com\\/hyeonjinpp\\/222979607022\",\n",
      "\t\t\t\"description\":\"며칠전에 친구들과 함께 점심을 먹으러 화성 남양 <b>맛집<\\/b>에 다녀왔습니다. 달달한 양념에 갈비와... 달달한 곁들임과 더불어 화성 남양 <b>맛집<\\/b>에 풍미가 더해졌답니다. 그리고는 야채쌈에 야무지게 싸먹었어요.... \",\n",
      "\t\t\t\"bloggername\":\"커스텀\",\n",
      "\t\t\t\"bloggerlink\":\"blog.naver.com\\/hyeonjinpp\",\n",
      "\t\t\t\"postdate\":\"20230109\"\n",
      "\t\t},\n",
      "\t\t{\n",
      "\t\t\t\"title\":\"강릉 강문해변 <b>맛집<\\/b> 해연가 인정이야!\",\n",
      "\t\t\t\"link\":\"https:\\/\\/blog.naver.com\\/moumel\\/222963998590\",\n",
      "\t\t\t\"description\":\"최근에 친한 친구들과 겨울바다를 구경하러 강릉에 갔다가 강릉 강문해변 <b>맛집<\\/b>에 들러 식사했는데요.... 잠시 웃고 떠드는 사이에 테이블 위로 주문한 강릉 강문해변 <b>맛집<\\/b>의 세트 메뉴가 한상을 꽉 채워... \",\n",
      "\t\t\t\"bloggername\":\"__moumel\",\n",
      "\t\t\t\"bloggerlink\":\"blog.naver.com\\/moumel\",\n",
      "\t\t\t\"postdate\":\"20221223\"\n",
      "\t\t},\n",
      "\t\t{\n",
      "\t\t\t\"title\":\"최애였던 종각 <b>맛집<\\/b>\",\n",
      "\t\t\t\"link\":\"https:\\/\\/blog.naver.com\\/drawing_me\\/222981722982\",\n",
      "\t\t\t\"description\":\"며칠 전에 동네 친구들과 한우가 먹고 싶어서 평소에 즐겨 찾는 종각 <b>맛집<\\/b>에 다녀왔는데요. 품질 좋은... 뿐만 아니라 종각 <b>맛집<\\/b>의 코스요리에는 계란찜도 제공되는데요. 부드러운 계란 사이에 탱글탱글한... \",\n",
      "\t\t\t\"bloggername\":\"drawing me\",\n",
      "\t\t\t\"bloggerlink\":\"blog.naver.com\\/drawing_me\",\n",
      "\t\t\t\"postdate\":\"20230111\"\n",
      "\t\t},\n",
      "\t\t{\n",
      "\t\t\t\"title\":\"신선했던 구래동 <b>맛집<\\/b> 조개정육점\",\n",
      "\t\t\t\"link\":\"https:\\/\\/blog.naver.com\\/newspacekor\\/222982407249\",\n",
      "\t\t\t\"description\":\"지난 주에 친구들과 모임을 가지기 위해 열심히 찾아보다 괜찮은 구래동 <b>맛집<\\/b>을 발견해 방문 해 봤어요.... 구래동 <b>맛집<\\/b>은 아직 먹어보기도 전에 기대치가 마구 상승해 군침이 꿀꺽 넘어갔답니다. 이곳에서는... \",\n",
      "\t\t\t\"bloggername\":\"물속 사랑\",\n",
      "\t\t\t\"bloggerlink\":\"blog.naver.com\\/newspacekor\",\n",
      "\t\t\t\"postdate\":\"20230112\"\n",
      "\t\t}\n",
      "\t]\n",
      "}\n"
     ]
    }
   ],
   "source": [
    "# 네이버 검색 API 예제 - 블로그 검색\n",
    "import os\n",
    "import sys\n",
    "import urllib.request\n",
    "client_id = \"3dfyncZSO1AWBQRZdc_3\"\n",
    "client_secret = \"2osShqHZcM\"\n",
    "encText = urllib.parse.quote(\"맛집\")\n",
    "url = \"https://openapi.naver.com/v1/search/blog?query=\" + encText # JSON 결과\n",
    "# url = \"https://openapi.naver.com/v1/search/blog.xml?query=\" + encText # XML 결과\n",
    "request = urllib.request.Request(url)\n",
    "request.add_header(\"X-Naver-Client-Id\",client_id)\n",
    "request.add_header(\"X-Naver-Client-Secret\",client_secret)\n",
    "response = urllib.request.urlopen(request)\n",
    "rescode = response.getcode()\n",
    "if(rescode==200):\n",
    "    response_body = response.read()\n",
    "    print(response_body.decode('utf-8'))\n",
    "else:\n",
    "    print(\"Error Code:\" + rescode)\n"
   ]
  },
  {
   "cell_type": "markdown",
   "id": "14328db9",
   "metadata": {},
   "source": [
    "## 책"
   ]
  },
  {
   "cell_type": "code",
   "execution_count": 9,
   "id": "46ac352c",
   "metadata": {},
   "outputs": [
    {
     "name": "stdout",
     "output_type": "stream",
     "text": [
      "{\n",
      "\t\"lastBuildDate\":\"Mon, 16 Jan 2023 11:42:59 +0900\",\n",
      "\t\"total\":14394943,\n",
      "\t\"start\":1,\n",
      "\t\"display\":10,\n",
      "\t\"items\":[\n",
      "\t\t{\n",
      "\t\t\t\"title\":\"디월트 DCF887 충전임팩드라이버\",\n",
      "\t\t\t\"link\":\"https:\\/\\/search.shopping.naver.com\\/gate.nhn?id=22188475156\",\n",
      "\t\t\t\"image\":\"https:\\/\\/shopping-phinf.pstatic.net\\/main_2218847\\/22188475156.20200313152856.jpg\",\n",
      "\t\t\t\"lprice\":\"127560\",\n",
      "\t\t\t\"hprice\":\"\",\n",
      "\t\t\t\"mallName\":\"네이버\",\n",
      "\t\t\t\"productId\":\"22188475156\",\n",
      "\t\t\t\"productType\":\"1\",\n",
      "\t\t\t\"brand\":\"디월트\",\n",
      "\t\t\t\"maker\":\"\",\n",
      "\t\t\t\"category1\":\"생활\\/건강\",\n",
      "\t\t\t\"category2\":\"공구\",\n",
      "\t\t\t\"category3\":\"전동공구\",\n",
      "\t\t\t\"category4\":\"충전드릴\"\n",
      "\t\t},\n",
      "\t\t{\n",
      "\t\t\t\"title\":\"아임삭 충전드릴 드라이버 AD414R 3G\",\n",
      "\t\t\t\"link\":\"https:\\/\\/search.shopping.naver.com\\/gate.nhn?id=22049816265\",\n",
      "\t\t\t\"image\":\"https:\\/\\/shopping-phinf.pstatic.net\\/main_2204981\\/22049816265.20220623093840.jpg\",\n",
      "\t\t\t\"lprice\":\"48490\",\n",
      "\t\t\t\"hprice\":\"\",\n",
      "\t\t\t\"mallName\":\"네이버\",\n",
      "\t\t\t\"productId\":\"22049816265\",\n",
      "\t\t\t\"productType\":\"1\",\n",
      "\t\t\t\"brand\":\"아임삭\",\n",
      "\t\t\t\"maker\":\"아임삭\",\n",
      "\t\t\t\"category1\":\"생활\\/건강\",\n",
      "\t\t\t\"category2\":\"공구\",\n",
      "\t\t\t\"category3\":\"전동공구\",\n",
      "\t\t\t\"category4\":\"충전드릴\"\n",
      "\t\t},\n",
      "\t\t{\n",
      "\t\t\t\"title\":\"웍스 충전드릴 <b>전동<\\/b>드라이버 수<b>공구<\\/b>세트 WX129.5\",\n",
      "\t\t\t\"link\":\"https:\\/\\/search.shopping.naver.com\\/gate.nhn?id=35882030618\",\n",
      "\t\t\t\"image\":\"https:\\/\\/shopping-phinf.pstatic.net\\/main_3588203\\/35882030618.20221124153811.jpg\",\n",
      "\t\t\t\"lprice\":\"89800\",\n",
      "\t\t\t\"hprice\":\"\",\n",
      "\t\t\t\"mallName\":\"네이버\",\n",
      "\t\t\t\"productId\":\"35882030618\",\n",
      "\t\t\t\"productType\":\"1\",\n",
      "\t\t\t\"brand\":\"웍스\",\n",
      "\t\t\t\"maker\":\"웍스\",\n",
      "\t\t\t\"category1\":\"생활\\/건강\",\n",
      "\t\t\t\"category2\":\"공구\",\n",
      "\t\t\t\"category3\":\"전동공구\",\n",
      "\t\t\t\"category4\":\"충전드릴\"\n",
      "\t\t},\n",
      "\t\t{\n",
      "\t\t\t\"title\":\"리피트 가정용 <b>전동<\\/b> 전기 <b>공구<\\/b> 드릴 드라이버 충전 드릴 RP-S010 세트형\",\n",
      "\t\t\t\"link\":\"https:\\/\\/search.shopping.naver.com\\/gate.nhn?id=82646906127\",\n",
      "\t\t\t\"image\":\"https:\\/\\/shopping-phinf.pstatic.net\\/main_8264690\\/82646906127.2.jpg\",\n",
      "\t\t\t\"lprice\":\"35800\",\n",
      "\t\t\t\"hprice\":\"\",\n",
      "\t\t\t\"mallName\":\"케이제이에이치유통\",\n",
      "\t\t\t\"productId\":\"82646906127\",\n",
      "\t\t\t\"productType\":\"2\",\n",
      "\t\t\t\"brand\":\"리피트\",\n",
      "\t\t\t\"maker\":\"리피트\",\n",
      "\t\t\t\"category1\":\"생활\\/건강\",\n",
      "\t\t\t\"category2\":\"공구\",\n",
      "\t\t\t\"category3\":\"전동공구\",\n",
      "\t\t\t\"category4\":\"충전드릴\"\n",
      "\t\t},\n",
      "\t\t{\n",
      "\t\t\t\"title\":\"<b>전동<\\/b> 드릴 충전 임팩 무선 <b>공구<\\/b> 드라이버 아티카\",\n",
      "\t\t\t\"link\":\"https:\\/\\/search.shopping.naver.com\\/gate.nhn?id=84156520421\",\n",
      "\t\t\t\"image\":\"https:\\/\\/shopping-phinf.pstatic.net\\/main_8415652\\/84156520421.5.jpg\",\n",
      "\t\t\t\"lprice\":\"117000\",\n",
      "\t\t\t\"hprice\":\"\",\n",
      "\t\t\t\"mallName\":\"아티카\",\n",
      "\t\t\t\"productId\":\"84156520421\",\n",
      "\t\t\t\"productType\":\"2\",\n",
      "\t\t\t\"brand\":\"아티카\",\n",
      "\t\t\t\"maker\":\"엔디케이\",\n",
      "\t\t\t\"category1\":\"생활\\/건강\",\n",
      "\t\t\t\"category2\":\"공구\",\n",
      "\t\t\t\"category3\":\"전동공구\",\n",
      "\t\t\t\"category4\":\"충전드릴\"\n",
      "\t\t},\n",
      "\t\t{\n",
      "\t\t\t\"title\":\"툴앤툴 충전식 무선 <b>전동<\\/b>드릴 TNT-REX18 LI\",\n",
      "\t\t\t\"link\":\"https:\\/\\/search.shopping.naver.com\\/gate.nhn?id=26237963522\",\n",
      "\t\t\t\"image\":\"https:\\/\\/shopping-phinf.pstatic.net\\/main_2623796\\/26237963522.20220908170736.jpg\",\n",
      "\t\t\t\"lprice\":\"59870\",\n",
      "\t\t\t\"hprice\":\"\",\n",
      "\t\t\t\"mallName\":\"네이버\",\n",
      "\t\t\t\"productId\":\"26237963522\",\n",
      "\t\t\t\"productType\":\"1\",\n",
      "\t\t\t\"brand\":\"툴앤툴\",\n",
      "\t\t\t\"maker\":\"\",\n",
      "\t\t\t\"category1\":\"생활\\/건강\",\n",
      "\t\t\t\"category2\":\"공구\",\n",
      "\t\t\t\"category3\":\"전동공구\",\n",
      "\t\t\t\"category4\":\"충전드릴\"\n",
      "\t\t},\n",
      "\t\t{\n",
      "\t\t\t\"title\":\"보쉬 <b>전동<\\/b>드릴 충전 임팩 스크류 드라이버 세트 GSR 120-LI (1B)\",\n",
      "\t\t\t\"link\":\"https:\\/\\/search.shopping.naver.com\\/gate.nhn?id=83124441105\",\n",
      "\t\t\t\"image\":\"https:\\/\\/shopping-phinf.pstatic.net\\/main_8312444\\/83124441105.1.jpg\",\n",
      "\t\t\t\"lprice\":\"110000\",\n",
      "\t\t\t\"hprice\":\"\",\n",
      "\t\t\t\"mallName\":\"KMplus\",\n",
      "\t\t\t\"productId\":\"83124441105\",\n",
      "\t\t\t\"productType\":\"2\",\n",
      "\t\t\t\"brand\":\"보쉬\",\n",
      "\t\t\t\"maker\":\"보쉬\",\n",
      "\t\t\t\"category1\":\"생활\\/건강\",\n",
      "\t\t\t\"category2\":\"공구\",\n",
      "\t\t\t\"category3\":\"전동공구\",\n",
      "\t\t\t\"category4\":\"충전드릴\"\n",
      "\t\t},\n",
      "\t\t{\n",
      "\t\t\t\"title\":\"보쉬 무선 <b>전동<\\/b>드라이버 GO2\",\n",
      "\t\t\t\"link\":\"https:\\/\\/search.shopping.naver.com\\/gate.nhn?id=27046750525\",\n",
      "\t\t\t\"image\":\"https:\\/\\/shopping-phinf.pstatic.net\\/main_2704675\\/27046750525.20210506143344.jpg\",\n",
      "\t\t\t\"lprice\":\"52530\",\n",
      "\t\t\t\"hprice\":\"\",\n",
      "\t\t\t\"mallName\":\"네이버\",\n",
      "\t\t\t\"productId\":\"27046750525\",\n",
      "\t\t\t\"productType\":\"1\",\n",
      "\t\t\t\"brand\":\"보쉬\",\n",
      "\t\t\t\"maker\":\"보쉬\",\n",
      "\t\t\t\"category1\":\"생활\\/건강\",\n",
      "\t\t\t\"category2\":\"공구\",\n",
      "\t\t\t\"category3\":\"전동공구\",\n",
      "\t\t\t\"category4\":\"충전드릴\"\n",
      "\t\t},\n",
      "\t\t{\n",
      "\t\t\t\"title\":\"디월트 컴팩트 임팩트 드라이버 DCF801\",\n",
      "\t\t\t\"link\":\"https:\\/\\/search.shopping.naver.com\\/gate.nhn?id=23374814490\",\n",
      "\t\t\t\"image\":\"https:\\/\\/shopping-phinf.pstatic.net\\/main_2337481\\/23374814490.20200707100629.jpg\",\n",
      "\t\t\t\"lprice\":\"86870\",\n",
      "\t\t\t\"hprice\":\"\",\n",
      "\t\t\t\"mallName\":\"네이버\",\n",
      "\t\t\t\"productId\":\"23374814490\",\n",
      "\t\t\t\"productType\":\"1\",\n",
      "\t\t\t\"brand\":\"디월트\",\n",
      "\t\t\t\"maker\":\"디월트\",\n",
      "\t\t\t\"category1\":\"생활\\/건강\",\n",
      "\t\t\t\"category2\":\"공구\",\n",
      "\t\t\t\"category3\":\"전동공구\",\n",
      "\t\t\t\"category4\":\"충전드릴\"\n",
      "\t\t},\n",
      "\t\t{\n",
      "\t\t\t\"title\":\"웍스 충전임팩드라이버 12V 2.0AH WU132\",\n",
      "\t\t\t\"link\":\"https:\\/\\/search.shopping.naver.com\\/gate.nhn?id=25308607522\",\n",
      "\t\t\t\"image\":\"https:\\/\\/shopping-phinf.pstatic.net\\/main_2530860\\/25308607522.20211208135433.jpg\",\n",
      "\t\t\t\"lprice\":\"109000\",\n",
      "\t\t\t\"hprice\":\"\",\n",
      "\t\t\t\"mallName\":\"네이버\",\n",
      "\t\t\t\"productId\":\"25308607522\",\n",
      "\t\t\t\"productType\":\"1\",\n",
      "\t\t\t\"brand\":\"웍스\",\n",
      "\t\t\t\"maker\":\"웍스\",\n",
      "\t\t\t\"category1\":\"생활\\/건강\",\n",
      "\t\t\t\"category2\":\"공구\",\n",
      "\t\t\t\"category3\":\"전동공구\",\n",
      "\t\t\t\"category4\":\"충전드릴\"\n",
      "\t\t}\n",
      "\t]\n",
      "}\n"
     ]
    }
   ],
   "source": [
    "# 네이버 검색 API 예제 - 블로그 검색\n",
    "import os\n",
    "import sys\n",
    "import urllib.request\n",
    "\n",
    "client_id = \"3dfyncZSO1AWBQRZdc_3\"\n",
    "client_secret = \"2osShqHZcM\"\n",
    "\n",
    "encText = urllib.parse.quote(\"파이썬\")\n",
    "url = \"https://openapi.naver.com/v1/search/book?query=\" + encText # JSON 결과\n",
    "# url = \"https://openapi.naver.com/v1/search/blog.xml?query=\" + encText # XML 결과\n",
    "request = urllib.request.Request(url)\n",
    "request.add_header(\"X-Naver-Client-Id\",client_id)\n",
    "request.add_header(\"X-Naver-Client-Secret\",client_secret)\n",
    "response = urllib.request.urlopen(request)\n",
    "rescode = response.getcode()\n",
    "if(rescode==200):\n",
    "    response_body = response.read()\n",
    "    print(response_body.decode('utf-8'))\n",
    "else:\n",
    "    print(\"Error Code:\" + rescode)\n"
   ]
  },
  {
   "cell_type": "code",
   "execution_count": 12,
   "id": "a25fedb4",
   "metadata": {},
   "outputs": [
    {
     "data": {
      "text/plain": [
       "(<http.client.HTTPResponse at 0x7f8c478636a0>, 200, 200)"
      ]
     },
     "execution_count": 12,
     "metadata": {},
     "output_type": "execute_result"
    }
   ],
   "source": [
    "response, response.getcode(), response.status"
   ]
  },
  {
   "cell_type": "code",
   "execution_count": 13,
   "id": "66dd52a2",
   "metadata": {},
   "outputs": [
    {
     "data": {
      "text/plain": [
       "b''"
      ]
     },
     "execution_count": 13,
     "metadata": {},
     "output_type": "execute_result"
    }
   ],
   "source": [
    "response.read()"
   ]
  },
  {
   "cell_type": "markdown",
   "id": "c84f444a",
   "metadata": {},
   "source": [
    "## 검색 : 영화(movie)"
   ]
  },
  {
   "cell_type": "code",
   "execution_count": 16,
   "id": "46913da6",
   "metadata": {},
   "outputs": [
    {
     "name": "stdout",
     "output_type": "stream",
     "text": [
      "{\n",
      "\t\"lastBuildDate\":\"Mon, 16 Jan 2023 12:02:31 +0900\",\n",
      "\t\"total\":154602,\n",
      "\t\"start\":1,\n",
      "\t\"display\":10,\n",
      "\t\"items\":[\n",
      "\t\t{\n",
      "\t\t\t\"title\":\"<b>파이썬<\\/b> 강의로 비전공자도 기초 마스터 가능!\",\n",
      "\t\t\t\"link\":\"http:\\/\\/cafe.naver.com\\/winspec\\/422490\",\n",
      "\t\t\t\"description\":\"<b>파이썬<\\/b> 강의 <b>파이썬<\\/b> 비전공자 강의 추천 <b>파이썬<\\/b> 강의 추천 IT의 중요성이 커지고, 프로그래밍 관련된 직무가 다양화됨에따라 <b>파이썬<\\/b>, 자바, c언어 와 같은 프로그래밍 언어를 자주 들어보셨을텐데요, 이러한 IT 역량은... \",\n",
      "\t\t\t\"cafename\":\"윈스펙｜자기계발, 내일배움카드, 토익...\",\n",
      "\t\t\t\"cafeurl\":\"https:\\/\\/cafe.naver.com\\/winspec\"\n",
      "\t\t},\n",
      "\t\t{\n",
      "\t\t\t\"title\":\"<b>파이썬<\\/b> 배우면 투자에 써 먹을 수 있을까요?\",\n",
      "\t\t\t\"link\":\"http:\\/\\/cafe.naver.com\\/vilab\\/224151\",\n",
      "\t\t\t\"description\":\"오늘은 <b>파이썬<\\/b>으로 애플 배당금 정보를 간단하게 분석해 보았습니다. <b>파이썬<\\/b>으로 야후 파이낸스 API를 이용하면 무료로 빅데이터를 마음껏 사용할 수 있습니다. 그리고 지표를 추출하고 시긱화하면... \",\n",
      "\t\t\t\"cafename\":\"가치투자연구소\",\n",
      "\t\t\t\"cafeurl\":\"https:\\/\\/cafe.naver.com\\/vilab\"\n",
      "\t\t},\n",
      "\t\t{\n",
      "\t\t\t\"title\":\"<b>파이썬<\\/b> 인강 추천 있을까요?\",\n",
      "\t\t\t\"link\":\"http:\\/\\/cafe.naver.com\\/mathall\\/2541381\",\n",
      "\t\t\t\"description\":\"찾아보니 처음엔 <b>파이썬<\\/b> 많이 하는것 같아서 방학때 인강으로 배워볼까 하는데 검색해봐도 광고위주인것 같아 선택하기 어렵네요. 괜찮은 인강 있으면 추천 부탁드립니다. 혹시 <b>파이썬<\\/b> 이전에 배우면 좋을것도 있을까요?... \",\n",
      "\t\t\t\"cafename\":\"[상위1%카페] 대한민국 상위1% 교육정...\",\n",
      "\t\t\t\"cafeurl\":\"https:\\/\\/cafe.naver.com\\/mathall\"\n",
      "\t\t},\n",
      "\t\t{\n",
      "\t\t\t\"title\":\"빅데이터 분석기사 실기 <b>파이썬<\\/b> 인강 추천\",\n",
      "\t\t\t\"link\":\"http:\\/\\/cafe.naver.com\\/sqlpd\\/44468\",\n",
      "\t\t\t\"description\":\"얼마전까지 저는 빅데이터 실기 공부할때 R, <b>파이썬<\\/b> 둘 중 무엇을 할찌 고민을 했지만 오늘로 저는 <b>파이썬<\\/b> 쪽으로 결정하기로 했어요. 현업에서도 R에서 이제는 <b>파이썬<\\/b>으로 넘어가는 추세라는 말을 방금전 제가 아는... \",\n",
      "\t\t\t\"cafename\":\"데이터 전문가 포럼 (빅데이터분석기사...\",\n",
      "\t\t\t\"cafeurl\":\"https:\\/\\/cafe.naver.com\\/sqlpd\"\n",
      "\t\t},\n",
      "\t\t{\n",
      "\t\t\t\"title\":\"<b>파이썬<\\/b> 온라인 교육 추천 부탁드려요! ( 왕초보 )\",\n",
      "\t\t\t\"link\":\"http:\\/\\/cafe.naver.com\\/dieselmania\\/40530935\",\n",
      "\t\t\t\"description\":\"안녕하세요~ 직장 생활하면서 <b>파이썬<\\/b>과 같은 언어를 다룰 줄 알면 확실히 도움되는 상황이 많은거 같아 혼자 조금씩 공부를 해 나가고 싶은데요 여태 접해본적이 없어서, , 온라인 교육을 통해서 알아가고 싶습니다.... \",\n",
      "\t\t\t\"cafename\":\"●디젤매니아● 대한민국 일등 패션 커...\",\n",
      "\t\t\t\"cafeurl\":\"https:\\/\\/cafe.naver.com\\/dieselmania\"\n",
      "\t\t},\n",
      "\t\t{\n",
      "\t\t\t\"title\":\"예비고1 <b>파이썬<\\/b>, c언어 학원이나 과외찾습니다\",\n",
      "\t\t\t\"link\":\"http:\\/\\/cafe.naver.com\\/pkms002\\/33609\",\n",
      "\t\t\t\"description\":\"아이가 과고 입학예정이어서 방학동안 <b>파이썬<\\/b>과 c언어를 좀 배우게 하려합니다. 2년전 <b>파이썬<\\/b>과 c도 아주 조금 배우긴 했는데 안 사용하다보니 거의 잊어버렸다 하더라구요~ 다닐만한 학원이나 과외 알고 싶습니다. 물론... \",\n",
      "\t\t\t\"cafename\":\"수지맹모\",\n",
      "\t\t\t\"cafeurl\":\"https:\\/\\/cafe.naver.com\\/pkms002\"\n",
      "\t\t},\n",
      "\t\t{\n",
      "\t\t\t\"title\":\"<b>파이썬<\\/b> 코딩스쿨 후기입니당~~~\",\n",
      "\t\t\t\"link\":\"http:\\/\\/cafe.naver.com\\/yangmom\\/548067\",\n",
      "\t\t\t\"description\":\"양평 맘 카페를 통해 모집한 <b>파이썬<\\/b> 코딩스쿨(진로탐색 프로그램)이 1월 5일부터 4회(1회 1시간 20분) 진행한 수업을 잘 끝마쳤습니다. 생각보다는 아이들이 <b>파이썬<\\/b> 코딩을 재미있어하고 잘 따라와서 나름 즐겁게 수업을... \",\n",
      "\t\t\t\"cafename\":\"양평 맘`s 전원 Story\",\n",
      "\t\t\t\"cafeurl\":\"https:\\/\\/cafe.naver.com\\/yangmom\"\n",
      "\t\t},\n",
      "\t\t{\n",
      "\t\t\t\"title\":\"20년차 개발자의 투자법 with <b>파이썬<\\/b>\",\n",
      "\t\t\t\"link\":\"http:\\/\\/cafe.naver.com\\/rechts\\/57565\",\n",
      "\t\t\t\"description\":\"종목 선정이나 매매 시점은 <b>파이썬<\\/b>을 이용해서 투자하고 있습니다. 제가 <b>파이썬<\\/b>으로 투자한다고 했더니 몇 몇 분께서 이런 댓글을 주셨습니다. &quot;인공지능으로는 주가를 예측할 수 없다~&quot; &quot;그게 될 거면 옛날에도 되었을... \",\n",
      "\t\t\t\"cafename\":\"보수적인 투자자는 마음이 편하다\",\n",
      "\t\t\t\"cafeurl\":\"https:\\/\\/cafe.naver.com\\/rechts\"\n",
      "\t\t},\n",
      "\t\t{\n",
      "\t\t\t\"title\":\"(그냥 쓰는 글입니다.)<b>파이썬<\\/b>에서의 로또용random.sample()함수...\",\n",
      "\t\t\t\"link\":\"http:\\/\\/cafe.naver.com\\/arduinostory\\/148502\",\n",
      "\t\t\t\"description\":\"토요일 저녁에는 stm32, 라즈베리파이피코, 마이크로<b>파이썬<\\/b>, 아두이노, 뭘해도 안되더니 오늘(월)은 컴퓨터 Or 제가 정신 차렸는지 생각하는대로 움직이기는 합니다. 요즘 마이크로 <b>파이썬<\\/b>도 공부하니 로또번호... \",\n",
      "\t\t\t\"cafename\":\"아두이노 스토리\",\n",
      "\t\t\t\"cafeurl\":\"https:\\/\\/cafe.naver.com\\/arduinostory\"\n",
      "\t\t},\n",
      "\t\t{\n",
      "\t\t\t\"title\":\"<b>파이썬<\\/b> 기초\",\n",
      "\t\t\t\"link\":\"http:\\/\\/cafe.naver.com\\/2008bunsamo\\/2208289\",\n",
      "\t\t\t\"description\":\"제가 가입한 어느 카베에 이 글을 올릴까 고민하다가 분따에서 아이들 <b>파이썬<\\/b> 가르쳐보신 경험들이 있으실것... 완전 상관없을줄 알았는데 <b>파이썬<\\/b>으로 짜여진 코드를 응용하여 그동안 수동으로 하던것을 자동으로... \",\n",
      "\t\t\t\"cafename\":\"분따 - 분당.판교.위례 따라잡기\",\n",
      "\t\t\t\"cafeurl\":\"https:\\/\\/cafe.naver.com\\/2008bunsamo\"\n",
      "\t\t}\n",
      "\t]\n",
      "}\n"
     ]
    }
   ],
   "source": [
    "# 네이버 검색 API 예제 - 블로그 검색\n",
    "import os\n",
    "import sys\n",
    "import urllib.request\n",
    "\n",
    "client_id = \"3dfyncZSO1AWBQRZdc_3\"\n",
    "client_secret = \"2osShqHZcM\"\n",
    "\n",
    "encText = urllib.parse.quote(\"파이썬\")\n",
    "url = \"https://openapi.naver.com/v1/search/cafearticle?query=\" + encText # JSON 결과\n",
    "# url = \"https://openapi.naver.com/v1/search/blog.xml?query=\" + encText # XML 결과\n",
    "request = urllib.request.Request(url)\n",
    "request.add_header(\"X-Naver-Client-Id\",client_id)\n",
    "request.add_header(\"X-Naver-Client-Secret\",client_secret)\n",
    "response = urllib.request.urlopen(request)\n",
    "rescode = response.getcode()\n",
    "if(rescode==200):\n",
    "    response_body = response.read()\n",
    "    print(response_body.decode('utf-8'))\n",
    "else:\n",
    "    print(\"Error Code:\" + rescode)"
   ]
  },
  {
   "cell_type": "markdown",
   "id": "56f9f72c",
   "metadata": {},
   "source": [
    "## 검색 : 백과사전"
   ]
  },
  {
   "cell_type": "code",
   "execution_count": 23,
   "id": "f1fbaeed",
   "metadata": {},
   "outputs": [
    {
     "name": "stdout",
     "output_type": "stream",
     "text": [
      "{\n",
      "\t\"lastBuildDate\":\"Mon, 16 Jan 2023 13:55:36 +0900\",\n",
      "\t\"total\":522,\n",
      "\t\"start\":1,\n",
      "\t\"display\":10,\n",
      "\t\"items\":[\n",
      "\t\t{\n",
      "\t\t\t\"title\":\"<b>파이썬<\\/b>\",\n",
      "\t\t\t\"link\":\"https:\\/\\/terms.naver.com\\/entry.naver?docId=3580815&cid=59088&categoryId=59096\",\n",
      "\t\t\t\"description\":\"‘<b>파이썬<\\/b>’이다. 간결한 문법으로 입문자가 이해하기 쉽고, 다양한 분야에 활용할 수 있기 때문이다. 이 외에도 <b>파이썬<\\/b>은 머신러닝, 그래픽, 웹 개발 등 여러 업계에서 선호하는 언어로 꾸준히... \",\n",
      "\t\t\t\"thumbnail\":\"http:\\/\\/openapi-dbscthumb.phinf.naver.net\\/4749_000_1\\/20170118193349632_0CHSSS5Y6.png\\/01_16.png?type=m160_160\"\n",
      "\t\t},\n",
      "\t\t{\n",
      "\t\t\t\"title\":\"<b>파이썬<\\/b>\",\n",
      "\t\t\t\"link\":\"https:\\/\\/terms.naver.com\\/entry.naver?docId=3607513&cid=58598&categoryId=59316\",\n",
      "\t\t\t\"description\":\" 컴퓨터 언어의 일종으로 간결하고 생산성 높은 프로그래밍 언어.  <b>파이썬<\\/b>(python)은 프로그램을 설계하는 프로그래밍 언어 중 하나입니다. 컴퓨터는 0과 1을(이진수) 인식하여 작동하기 때문에 과거에는... \",\n",
      "\t\t\t\"thumbnail\":\"http:\\/\\/openapi-dbscthumb.phinf.naver.net\\/4751_000_3\\/20170710213206672_OPHLG2VOW.jpg\\/992_170575_10034.jpg?type=m160_160\"\n",
      "\t\t},\n",
      "\t\t{\n",
      "\t\t\t\"title\":\"<b>파이썬<\\/b>\",\n",
      "\t\t\t\"link\":\"https:\\/\\/terms.naver.com\\/entry.naver?docId=3533295&cid=40942&categoryId=32838\",\n",
      "\t\t\t\"description\":\" 오픈소스 고급 프로그래밍 언어 중 하나이다.  C언어를 기반으로 한 오픈소스 고급 프로그래밍 언어로, 1991년 귀도 반 로섬(Guido van Rossum)에 의해 설계 및 개발되었다. <b>파이썬<\\/b>이라는 이름은 <b>파이썬<\\/b>을... \",\n",
      "\t\t\t\"thumbnail\":\"\"\n",
      "\t\t},\n",
      "\t\t{\n",
      "\t\t\t\"title\":\"<b>파이썬<\\/b>\",\n",
      "\t\t\t\"link\":\"https:\\/\\/ko.wikipedia.org\\/wiki\\/%ED%8C%8C%EC%9D%B4%EC%8D%AC\",\n",
      "\t\t\t\"description\":\"<b>파이썬<\\/b> ( 영어: Python )은 1991년 네덜란드계 소프트웨어 엔지니어인 귀도 반 로섬이 발표한 고급 프로그래밍 언어로, 플랫폼에 독립적이며 인터프리터식, 객체지향적, 동적 타이핑(dynamically typed)... \",\n",
      "\t\t\t\"thumbnail\":\"\"\n",
      "\t\t},\n",
      "\t\t{\n",
      "\t\t\t\"title\":\"C<b>파이썬<\\/b>\",\n",
      "\t\t\t\"link\":\"https:\\/\\/ko.wikipedia.org\\/wiki\\/C%ED%8C%8C%EC%9D%B4%EC%8D%AC\",\n",
      "\t\t\t\"description\":\"C<b>파이썬<\\/b> (CPython)은 <b>파이썬<\\/b> 프로그래밍 언어의 참조 구현체이다. C와 <b>파이썬<\\/b>으로 작성된 C<b>파이썬<\\/b>은 이 언어에 가장 널리 사용되는 기본 구현체이다. C<b>파이썬<\\/b>은 인터프리트 과정 이전에 <b>파이썬<\\/b> 코드를... \",\n",
      "\t\t\t\"thumbnail\":\"\"\n",
      "\t\t},\n",
      "\t\t{\n",
      "\t\t\t\"title\":\"바이오<b>파이썬<\\/b>\",\n",
      "\t\t\t\"link\":\"https:\\/\\/ko.wikipedia.org\\/wiki\\/%EB%B0%94%EC%9D%B4%EC%98%A4%ED%8C%8C%EC%9D%B4%EC%8D%AC\",\n",
      "\t\t\t\"description\":\"바이오<b>파이썬<\\/b> (Biopython) 프로젝트는 분자생물학 계산에 자유롭게 사용하기 위한 <b>파이썬<\\/b> 라이브러리 구축 프로젝트이다. 같이 보기 바이오자바 바이오펄 외부 링크 biopython.org\",\n",
      "\t\t\t\"thumbnail\":\"\"\n",
      "\t\t},\n",
      "\t\t{\n",
      "\t\t\t\"title\":\"<b>파이썬<\\/b>애니웨어\",\n",
      "\t\t\t\"link\":\"https:\\/\\/ko.wikipedia.org\\/wiki\\/%ED%8C%8C%EC%9D%B4%EC%8D%AC%EC%95%A0%EB%8B%88%EC%9B%A8%EC%96%B4\",\n",
      "\t\t\t\"description\":\"<b>파이썬<\\/b>애니웨어 (PythonAnywhere)는 <b>파이썬<\\/b> 프로그래밍 언어 기반의 웹 호스팅 서비스(서비스형 플랫폼)이자 온라인 통합 개발 환경이다. 2012년에 Giles Thomas와 Robert Smithson이 설립했으며 서버... \",\n",
      "\t\t\t\"thumbnail\":\"\"\n",
      "\t\t},\n",
      "\t\t{\n",
      "\t\t\t\"title\":\"<b>파이썬<\\/b>의 역사\",\n",
      "\t\t\t\"link\":\"https:\\/\\/ko.wikipedia.org\\/wiki\\/%ED%8C%8C%EC%9D%B4%EC%8D%AC%EC%9D%98_%EC%97%AD%EC%82%AC\",\n",
      "\t\t\t\"description\":\"프로그래밍 언어 <b>파이썬<\\/b>은 1980년대 말에 구상되었으며 그 구현체는 1989년 12월 예외 처리가 가능하고 아메바 운영 체제와 통신이 가능한 ABC의 후속 프로그래밍 언어로서 CWI(Centrum Wiskunde... \",\n",
      "\t\t\t\"thumbnail\":\"\"\n",
      "\t\t},\n",
      "\t\t{\n",
      "\t\t\t\"title\":\"아나콘다 (<b>파이썬<\\/b> 배포판)\",\n",
      "\t\t\t\"link\":\"https:\\/\\/ko.wikipedia.org\\/wiki\\/%EC%95%84%EB%82%98%EC%BD%98%EB%8B%A4_(%ED%8C%8C%EC%9D%B4%EC%8D%AC_%EB%B0%B0%ED%8F%AC%ED%8C%90)\",\n",
      "\t\t\t\"description\":\"아나콘다 (Anaconda)는 패키지 관리와 디플로이를 단순케 할 목적으로 과학 계산(데이터 과학, 기계 학습 애플리케이션, 대규모 데이터 처리, 예측 분석 등)을 위한 <b>파이썬<\\/b>과 R 프로그래밍 언어의 자유... \",\n",
      "\t\t\t\"thumbnail\":\"\"\n",
      "\t\t},\n",
      "\t\t{\n",
      "\t\t\t\"title\":\"<b>파이썬<\\/b> 소프트웨어 재단\",\n",
      "\t\t\t\"link\":\"https:\\/\\/ko.wikipedia.org\\/wiki\\/%ED%8C%8C%EC%9D%B4%EC%8D%AC_%EC%86%8C%ED%94%84%ED%8A%B8%EC%9B%A8%EC%96%B4_%EC%9E%AC%EB%8B%A8\",\n",
      "\t\t\t\"description\":\"<b>파이썬<\\/b> 소프트웨어 재단 (Python Software Foundation, PSF)은 <b>파이썬<\\/b> 프로그래밍 언어에 헌신하는 비영리 단체로서, 2001년 3월 6일 런칭했다. 이 단체의 임무는 <b>파이썬<\\/b> 공동체의 개발을 발전시키고... \",\n",
      "\t\t\t\"thumbnail\":\"\"\n",
      "\t\t}\n",
      "\t]\n",
      "}\n"
     ]
    }
   ],
   "source": [
    "# 네이버 검색 API 예제 - 블로그 검색\n",
    "import os\n",
    "import sys\n",
    "import urllib.request\n",
    "\n",
    "client_id = \"3dfyncZSO1AWBQRZdc_3\"\n",
    "client_secret = \"2osShqHZcM\"\n",
    "\n",
    "encText = urllib.parse.quote(\"파이썬\")\n",
    "url = \"https://openapi.naver.com/v1/search/encyc?query=\" + encText # JSON 결과\n",
    "# url = \"https://openapi.naver.com/v1/search/blog.xml?query=\" + encText # XML 결과\n",
    "request = urllib.request.Request(url)\n",
    "request.add_header(\"X-Naver-Client-Id\",client_id)\n",
    "request.add_header(\"X-Naver-Client-Secret\",client_secret)\n",
    "response = urllib.request.urlopen(request)\n",
    "rescode = response.getcode()\n",
    "if(rescode==200):\n",
    "    response_body = response.read()\n",
    "    print(response_body.decode('utf-8'))\n",
    "else:\n",
    "    print(\"Error Code:\" + rescode)"
   ]
  },
  {
   "cell_type": "markdown",
   "id": "98c56cae",
   "metadata": {},
   "source": [
    "# 3. 상품 검색"
   ]
  },
  {
   "cell_type": "code",
   "execution_count": 35,
   "id": "5e2fb8ce",
   "metadata": {},
   "outputs": [
    {
     "name": "stdout",
     "output_type": "stream",
     "text": [
      "{\n",
      "\t\"lastBuildDate\":\"Mon, 16 Jan 2023 14:05:12 +0900\",\n",
      "\t\"total\":140,\n",
      "\t\"start\":1,\n",
      "\t\"display\":10,\n",
      "\t\"items\":[\n",
      "\t\t{\n",
      "\t\t\t\"title\":\"<b>맥북<\\/b>\",\n",
      "\t\t\t\"link\":\"https:\\/\\/terms.naver.com\\/entry.naver?docId=5660938&cid=61231&categoryId=61231\",\n",
      "\t\t\t\"description\":\"Apple社가 2006년 5월 16일에 출시한 첫 <b>맥북<\\/b>(MacBook) 포터블 컴퓨터이다. 본체에 확장 케이블을 자석처럼 밀착시킬 수 있었으며 이는 이후 Apple社 컴퓨터에 널리 활용되게 되었다.\",\n",
      "\t\t\t\"thumbnail\":\"http:\\/\\/openapi-dbscthumb.phinf.naver.net\\/5469_000_1\\/20180626154943782_972BIJSUD.jpg\\/110-130006_i7.jpg?type=m160_160\"\n",
      "\t\t},\n",
      "\t\t{\n",
      "\t\t\t\"title\":\"<b>맥북<\\/b>\",\n",
      "\t\t\t\"link\":\"https:\\/\\/terms.naver.com\\/entry.naver?docId=19203&cid=43659&categoryId=43659\",\n",
      "\t\t\t\"description\":\"미국 애플의 노트북 컴퓨터 브랜드 및 시리즈로 유닉스 운영체제가 적용된 현존하는 유일한 노트북이다. <b>맥북<\\/b>은 2006년 5월 16일 전 세계 애플 온라인 스토어 및 애플 스토어에서 출시되었다.\",\n",
      "\t\t\t\"thumbnail\":\"\"\n",
      "\t\t},\n",
      "\t\t{\n",
      "\t\t\t\"title\":\"<b>맥북<\\/b>\",\n",
      "\t\t\t\"link\":\"https:\\/\\/ko.wikipedia.org\\/wiki\\/%EB%A7%A5%EB%B6%81\",\n",
      "\t\t\t\"description\":\"<b>맥북<\\/b> ( 영어: MacBook )은 현존하는 유일한 유닉스 노트북 컴퓨터로서 미국 애플의 노트북 컴퓨터 브랜드및 시리즈이다. 최초의 유닉스 운영체제 Bell Labs Unix의 소스코드를 잇는 유닉스 macOS를... \",\n",
      "\t\t\t\"thumbnail\":\"\"\n",
      "\t\t},\n",
      "\t\t{\n",
      "\t\t\t\"title\":\"<b>맥북<\\/b>에어\",\n",
      "\t\t\t\"link\":\"https:\\/\\/terms.naver.com\\/entry.naver?docId=932215&cid=43667&categoryId=43667\",\n",
      "\t\t\t\"description\":\"2012년에는 최대 512GB까지 확장 가능한 저장장치, 최대 7시간까지 지속이 가능한 배터리 성능, 더욱 빨라진 데이터 액세스 속도 등 이전 제품보다 개선된 <b>맥북<\\/b>에어 2012가 출시되었다. 11인치의 경우... \",\n",
      "\t\t\t\"thumbnail\":\"\"\n",
      "\t\t},\n",
      "\t\t{\n",
      "\t\t\t\"title\":\"<b>맥북<\\/b> 에어\",\n",
      "\t\t\t\"link\":\"https:\\/\\/ko.wikipedia.org\\/wiki\\/%EB%A7%A5%EB%B6%81_%EC%97%90%EC%96%B4\",\n",
      "\t\t\t\"description\":\"<b>맥북<\\/b> 에어 ( 영어: MacBook Air )는 애플의 매킨토시 울트라 포터블 노트북 라인업이다. <b>맥북<\\/b> 에어는 이동성과 성능을 모두 갖추도록 설계되었으며, 풀 사이즈 키보드, 알루미늄 케이싱 가공을 통해 매우... \",\n",
      "\t\t\t\"thumbnail\":\"\"\n",
      "\t\t},\n",
      "\t\t{\n",
      "\t\t\t\"title\":\"<b>맥북<\\/b> 프로\",\n",
      "\t\t\t\"link\":\"https:\\/\\/ko.wikipedia.org\\/wiki\\/%EB%A7%A5%EB%B6%81_%ED%94%84%EB%A1%9C\",\n",
      "\t\t\t\"description\":\"<b>맥북<\\/b> 프로 ( MacBook Pro )는 애플 매킨토시 노트북 컴퓨터 라인업으로, 2006년 1월 10일 맥월드 엑스포에서 처음 공개되었다. <b>맥북<\\/b> 프로는 파워북 G4의 후속으로 발표되었으며, 아이맥 이후 나온 두번째 맥... \",\n",
      "\t\t\t\"thumbnail\":\"\"\n",
      "\t\t},\n",
      "\t\t{\n",
      "\t\t\t\"title\":\"<b>맥북<\\/b> 레티나\",\n",
      "\t\t\t\"link\":\"https:\\/\\/ko.wikipedia.org\\/wiki\\/%EB%A7%A5%EB%B6%81_%EB%A0%88%ED%8B%B0%EB%82%98\",\n",
      "\t\t\t\"description\":\"<b>맥북<\\/b> 레티나 ( 영어: MacBook Retina )은 2015년 3월 출시된 애플의 매킨토시 포터블 컴퓨터 라인업이다. <b>맥북<\\/b> 레티나는 <b>맥북<\\/b> 에어와 비슷한 모습을 하고 있으나, 보다 얇고 가볍다. 색상은... \",\n",
      "\t\t\t\"thumbnail\":\"\"\n",
      "\t\t},\n",
      "\t\t{\n",
      "\t\t\t\"title\":\"<b>맥북<\\/b> 사용법\",\n",
      "\t\t\t\"link\":\"https:\\/\\/terms.naver.com\\/entry.naver?docId=5834456&cid=51701&categoryId=65727\",\n",
      "\t\t\t\"description\":\"[<b>맥북<\\/b> 사용법] 단축키, 화면캡쳐, 스포트라이트, 시리 등 <b>맥북<\\/b> 사용법을 소개해 드립니다.(동영상 출처 : 하우하우)\",\n",
      "\t\t\t\"thumbnail\":\"https:\\/\\/phinf.pstatic.net\\/tvcast\\/20190618_72\\/z8qnC_1560831876354Y40i8_JPEG\\/1560831851149.jpg#881x496#m\"\n",
      "\t\t},\n",
      "\t\t{\n",
      "\t\t\t\"title\":\"터치바\",\n",
      "\t\t\t\"link\":\"https:\\/\\/terms.naver.com\\/entry.naver?docId=3557891&cid=43667&categoryId=43667\",\n",
      "\t\t\t\"description\":\" 2016년형 <b>맥북<\\/b>(Macbook) 프로에 처음 탑재된 OLED 터치 패널로 기능키 대신 장착됨.  | 외국어 표기 | Touch Bar(영어) | 2016년형 미국에서 출시된 <b>맥북<\\/b>(Macbook) 프로에 장착된 터치 방식의 디스플레이로 2170×60(가로... \",\n",
      "\t\t\t\"thumbnail\":\"\"\n",
      "\t\t},\n",
      "\t\t{\n",
      "\t\t\t\"title\":\"맥세이프\",\n",
      "\t\t\t\"link\":\"https:\\/\\/ko.wikipedia.org\\/wiki\\/%EB%A7%A5%EC%84%B8%EC%9D%B4%ED%94%84\",\n",
      "\t\t\t\"description\":\"맥세이프 ( 영어: MagSafe )은 2006년 1월 10일에 애플이 공개한 자기부착형식으로 만들어진 <b>맥북<\\/b>전용 전원 커넥터이다. <b>맥북<\\/b> 프로에서 처음으로 도입했으며, 자기력으로 고정되어 있어 누군가가 코드 위로... \",\n",
      "\t\t\t\"thumbnail\":\"\"\n",
      "\t\t}\n",
      "\t]\n",
      "}\n"
     ]
    }
   ],
   "source": [
    "import os\n",
    "import sys\n",
    "import urllib.request\n",
    "\n",
    "client_id = \"3dfyncZSO1AWBQRZdc_3\"\n",
    "client_secret = \"2osShqHZcM\"\n",
    "\n",
    "encText = urllib.parse.quote(\"맥북\")\n",
    "url = \"https://openapi.naver.com/v1/search/encyc?query=\" + encText # JSON 결과\n",
    "\n",
    "request = urllib.request.Request(url)\n",
    "request.add_header(\"X-Naver-Client-Id\", client_id)\n",
    "request.add_header(\"X-Naver-Client-Secret\", client_secret)\n",
    "\n",
    "response = urllib.request.urlopen(request)\n",
    "rescode = response.getcode()\n",
    "\n",
    "if(rescode == 200):\n",
    "    response_body = response.read()\n",
    "    print(response_body.decode(\"utf-8\"))\n",
    "\n",
    "else:\n",
    "    print(\"Error Code:\" + rescode)"
   ]
  },
  {
   "cell_type": "code",
   "execution_count": 19,
   "id": "2ea31d43",
   "metadata": {},
   "outputs": [
    {
     "data": {
      "text/plain": [
       "'%EB%A7%A5%EB%B6%81'"
      ]
     },
     "execution_count": 19,
     "metadata": {},
     "output_type": "execute_result"
    }
   ],
   "source": [
    "encText"
   ]
  },
  {
   "cell_type": "code",
   "execution_count": 20,
   "id": "bad0832a",
   "metadata": {},
   "outputs": [
    {
     "data": {
      "text/plain": [
       "'https://openapi.naver.com/v1/search/shop?query=%EB%A7%A5%EB%B6%81'"
      ]
     },
     "execution_count": 20,
     "metadata": {},
     "output_type": "execute_result"
    }
   ],
   "source": [
    "url + encText"
   ]
  },
  {
   "cell_type": "markdown",
   "id": "ae9b2543",
   "metadata": {},
   "source": [
    "### (1) gen_search-url()\n",
    "- 검색해야 할 URL 만들기\n",
    "- https://developers.naver.com/docs/serviceapi/search/blog/blog.md#python"
   ]
  },
  {
   "cell_type": "code",
   "execution_count": 5,
   "id": "901f2636",
   "metadata": {},
   "outputs": [],
   "source": [
    "def gen_search_url(api_node, search_text, start_num, disp_num):\n",
    "    \n",
    "    base = \"https://openapi.naver.com/v1/search\"\n",
    "    node = \"/\" + api_node + \".json\"\n",
    "    param_query = \"?query=\" + urllib.parse.quote(search_text)\n",
    "    param_start = \"&start=\" + str(start_num)\n",
    "    param_disp = \"&display=\" + str(disp_num)\n",
    "    \n",
    "    return base + node + param_query + param_start + param_disp"
   ]
  },
  {
   "cell_type": "code",
   "execution_count": null,
   "id": "a373b829",
   "metadata": {},
   "outputs": [],
   "source": []
  },
  {
   "cell_type": "code",
   "execution_count": 58,
   "id": "e1a90505",
   "metadata": {},
   "outputs": [
    {
     "data": {
      "text/plain": [
       "'http://openai.naver.com/v1/search/shop.json?query=%EC%BB%A8%ED%8A%B8%EB%A1%A4%EB%9F%AC&start=1&display=5'"
      ]
     },
     "execution_count": 58,
     "metadata": {},
     "output_type": "execute_result"
    }
   ],
   "source": [
    "url"
   ]
  },
  {
   "cell_type": "code",
   "execution_count": 59,
   "id": "e0045852",
   "metadata": {},
   "outputs": [
    {
     "data": {
      "text/plain": [
       "'http://openapi.naver.com/v1/search/book.json?query=%ED%8C%8C%EC%9D%B4%EC%8D%AC&start=1&display=5'"
      ]
     },
     "execution_count": 59,
     "metadata": {},
     "output_type": "execute_result"
    }
   ],
   "source": [
    "gen_search_url(\"book\", \"파이썬\", 1, 5)"
   ]
  },
  {
   "cell_type": "markdown",
   "id": "e50eee1d",
   "metadata": {},
   "source": [
    "### (2) get_result_onepage()"
   ]
  },
  {
   "cell_type": "code",
   "execution_count": 6,
   "id": "2250580a",
   "metadata": {},
   "outputs": [],
   "source": [
    "import json\n",
    "import datetime\n",
    "\n",
    "def get_result_onepage(url):\n",
    "    request = urllib.request.Request(url)\n",
    "    request.add_header(\"X-Naver-Client-Id\", client_id)\n",
    "    request.add_header(\"X-Naver-Client-Secret\", client_secret)\n",
    "    response = urllib.request.urlopen(request)\n",
    "    print(\"[%s] Url Request Success\" % datetime.datetime.now())\n",
    "    return json.loads(response.read().decode(\"utf-8\"))\n",
    "\n"
   ]
  },
  {
   "cell_type": "code",
   "execution_count": 8,
   "id": "00985e2b",
   "metadata": {},
   "outputs": [
    {
     "name": "stdout",
     "output_type": "stream",
     "text": [
      "[2023-01-16 14:44:47.042610] Url Request Success\n"
     ]
    },
    {
     "data": {
      "text/plain": [
       "{'lastBuildDate': 'Mon, 16 Jan 2023 14:44:47 +0900',\n",
       " 'total': 2935999,\n",
       " 'start': 1,\n",
       " 'display': 5,\n",
       " 'items': [{'title': '터틀비치 리콘 <b>컨트롤러</b> XBOX/PC 게임패드',\n",
       "   'link': 'https://search.shopping.naver.com/gate.nhn?id=28603081554',\n",
       "   'image': 'https://shopping-phinf.pstatic.net/main_2860308/28603081554.20211203110645.jpg',\n",
       "   'lprice': '59900',\n",
       "   'hprice': '',\n",
       "   'mallName': '네이버',\n",
       "   'productId': '28603081554',\n",
       "   'productType': '1',\n",
       "   'brand': '터틀비치',\n",
       "   'maker': '터틀비치',\n",
       "   'category1': '디지털/가전',\n",
       "   'category2': '게임기/타이틀',\n",
       "   'category3': '게임기주변기기',\n",
       "   'category4': '조이스틱/컨트롤러'},\n",
       "  {'title': '닌텐도 스위치 프로 <b>컨트롤러</b> (SWITCH)',\n",
       "   'link': 'https://search.shopping.naver.com/gate.nhn?id=14410545483',\n",
       "   'image': 'https://shopping-phinf.pstatic.net/main_1441054/14410545483.20191231165000.jpg',\n",
       "   'lprice': '69680',\n",
       "   'hprice': '',\n",
       "   'mallName': '네이버',\n",
       "   'productId': '14410545483',\n",
       "   'productType': '1',\n",
       "   'brand': '닌텐도',\n",
       "   'maker': '닌텐도',\n",
       "   'category1': '디지털/가전',\n",
       "   'category2': '게임기/타이틀',\n",
       "   'category3': '게임기주변기기',\n",
       "   'category4': '조이스틱/컨트롤러'},\n",
       "  {'title': '마이크로소프트 엑스박스 무선 <b>컨트롤러</b> - 카본 블랙',\n",
       "   'link': 'https://search.shopping.naver.com/gate.nhn?id=24822708523',\n",
       "   'image': 'https://shopping-phinf.pstatic.net/main_2482270/24822708523.20201113102929.jpg',\n",
       "   'lprice': '58780',\n",
       "   'hprice': '',\n",
       "   'mallName': '네이버',\n",
       "   'productId': '24822708523',\n",
       "   'productType': '1',\n",
       "   'brand': '엑스박스',\n",
       "   'maker': '마이크로소프트',\n",
       "   'category1': '디지털/가전',\n",
       "   'category2': '게임기/타이틀',\n",
       "   'category3': '게임기주변기기',\n",
       "   'category4': '조이스틱/컨트롤러'},\n",
       "  {'title': 'SIEK 플레이스테이션 듀얼센스 무선 <b>컨트롤러</b> (PS5)',\n",
       "   'link': 'https://search.shopping.naver.com/gate.nhn?id=24892857522',\n",
       "   'image': 'https://shopping-phinf.pstatic.net/main_2489285/24892857522.20201118172012.jpg',\n",
       "   'lprice': '63990',\n",
       "   'hprice': '',\n",
       "   'mallName': '네이버',\n",
       "   'productId': '24892857522',\n",
       "   'productType': '1',\n",
       "   'brand': '플레이스테이션',\n",
       "   'maker': 'SIEK',\n",
       "   'category1': '디지털/가전',\n",
       "   'category2': '게임기/타이틀',\n",
       "   'category3': '게임기주변기기',\n",
       "   'category4': '조이스틱/컨트롤러'},\n",
       "  {'title': '조이트론 닌텐도 스위치 MX그립콘 <b>컨트롤러</b> 조이콘 OLED 대응',\n",
       "   'link': 'https://search.shopping.naver.com/gate.nhn?id=83102234656',\n",
       "   'image': 'https://shopping-phinf.pstatic.net/main_8310223/83102234656.19.jpg',\n",
       "   'lprice': '54800',\n",
       "   'hprice': '',\n",
       "   'mallName': '조이트론스토어',\n",
       "   'productId': '83102234656',\n",
       "   'productType': '2',\n",
       "   'brand': '조이트론',\n",
       "   'maker': '조이트론',\n",
       "   'category1': '디지털/가전',\n",
       "   'category2': '게임기/타이틀',\n",
       "   'category3': '게임기주변기기',\n",
       "   'category4': '조이스틱/컨트롤러'}]}"
      ]
     },
     "execution_count": 8,
     "metadata": {},
     "output_type": "execute_result"
    }
   ],
   "source": [
    "url = gen_search_url(\"shop\", \"컨트롤러\", 1, 5)\n",
    "one_result = get_result_onepage(url)\n",
    "one_result"
   ]
  },
  {
   "cell_type": "code",
   "execution_count": 43,
   "id": "128e11bc",
   "metadata": {},
   "outputs": [
    {
     "data": {
      "text/plain": [
       "'터틀비치 리콘 <b>컨트롤러</b> XBOX/PC 게임패드'"
      ]
     },
     "execution_count": 43,
     "metadata": {},
     "output_type": "execute_result"
    }
   ],
   "source": [
    "one_result[\"items\"][0][\"title\"]"
   ]
  },
  {
   "cell_type": "code",
   "execution_count": 12,
   "id": "100b4313",
   "metadata": {},
   "outputs": [
    {
     "data": {
      "text/plain": [
       "'조이스틱/컨트롤러'"
      ]
     },
     "execution_count": 12,
     "metadata": {},
     "output_type": "execute_result"
    }
   ],
   "source": [
    "one_result[\"items\"][0][\"category4\"]"
   ]
  },
  {
   "cell_type": "markdown",
   "id": "3837b9b1",
   "metadata": {},
   "source": [
    "# 상품 링크"
   ]
  },
  {
   "cell_type": "code",
   "execution_count": 44,
   "id": "6090afa7",
   "metadata": {},
   "outputs": [
    {
     "data": {
      "text/plain": [
       "'https://search.shopping.naver.com/gate.nhn?id=28603081554'"
      ]
     },
     "execution_count": 44,
     "metadata": {},
     "output_type": "execute_result"
    }
   ],
   "source": [
    "one_result[\"items\"][0][\"link\"]"
   ]
  },
  {
   "cell_type": "markdown",
   "id": "0f404f62",
   "metadata": {},
   "source": [
    "# 상품 가격"
   ]
  },
  {
   "cell_type": "code",
   "execution_count": 49,
   "id": "fad0c9b3",
   "metadata": {},
   "outputs": [
    {
     "data": {
      "text/plain": [
       "'59900'"
      ]
     },
     "execution_count": 49,
     "metadata": {},
     "output_type": "execute_result"
    }
   ],
   "source": [
    "one_result[\"items\"][0][\"lprice\"]"
   ]
  },
  {
   "cell_type": "markdown",
   "id": "04697db5",
   "metadata": {},
   "source": [
    "# 상품 판매처"
   ]
  },
  {
   "cell_type": "code",
   "execution_count": 46,
   "id": "6b4d176f",
   "metadata": {},
   "outputs": [
    {
     "data": {
      "text/plain": [
       "'네이버'"
      ]
     },
     "execution_count": 46,
     "metadata": {},
     "output_type": "execute_result"
    }
   ],
   "source": [
    "one_result[\"items\"][0][\"mallName\"]"
   ]
  },
  {
   "cell_type": "markdown",
   "id": "57c9078f",
   "metadata": {},
   "source": [
    "## (3) get_fields()"
   ]
  },
  {
   "cell_type": "code",
   "execution_count": 50,
   "id": "fd83c799",
   "metadata": {},
   "outputs": [],
   "source": [
    "import pandas as pd\n",
    "\n",
    "def get_fields(json_data):\n",
    "    title = [delete_tag(each[\"title\"]) for each in json_data[\"items\"]]\n",
    "    link = [each[\"link\"] for each in json_data[\"items\"]]\n",
    "    lprice = [each[\"lprice\"] for each in json_data[\"items\"]]\n",
    "    mall_name = [each[\"mallName\"] for each in json_data[\"items\"]]\n",
    "    \n",
    "    result = pd.DataFrame({\n",
    "        \"title\": title,\n",
    "        \"link\": link,\n",
    "        \"lprice\": lprice,\n",
    "        \"mall\" : mall_name,\n",
    "    }, columns=[\"title\",\"lprice\", \"link\", \"mall\"])\n",
    "    \n",
    "    return result"
   ]
  },
  {
   "cell_type": "code",
   "execution_count": 51,
   "id": "b1d07b10",
   "metadata": {},
   "outputs": [
    {
     "data": {
      "text/html": [
       "<div>\n",
       "<style scoped>\n",
       "    .dataframe tbody tr th:only-of-type {\n",
       "        vertical-align: middle;\n",
       "    }\n",
       "\n",
       "    .dataframe tbody tr th {\n",
       "        vertical-align: top;\n",
       "    }\n",
       "\n",
       "    .dataframe thead th {\n",
       "        text-align: right;\n",
       "    }\n",
       "</style>\n",
       "<table border=\"1\" class=\"dataframe\">\n",
       "  <thead>\n",
       "    <tr style=\"text-align: right;\">\n",
       "      <th></th>\n",
       "      <th>title</th>\n",
       "      <th>lprice</th>\n",
       "      <th>link</th>\n",
       "      <th>mall</th>\n",
       "    </tr>\n",
       "  </thead>\n",
       "  <tbody>\n",
       "    <tr>\n",
       "      <th>0</th>\n",
       "      <td>터틀비치 리콘 컨트롤러 XBOX/PC 게임패드</td>\n",
       "      <td>59900</td>\n",
       "      <td>https://search.shopping.naver.com/gate.nhn?id=...</td>\n",
       "      <td>네이버</td>\n",
       "    </tr>\n",
       "    <tr>\n",
       "      <th>1</th>\n",
       "      <td>닌텐도 스위치 프로 컨트롤러 (SWITCH)</td>\n",
       "      <td>69680</td>\n",
       "      <td>https://search.shopping.naver.com/gate.nhn?id=...</td>\n",
       "      <td>네이버</td>\n",
       "    </tr>\n",
       "    <tr>\n",
       "      <th>2</th>\n",
       "      <td>마이크로소프트 엑스박스 무선 컨트롤러 - 카본 블랙</td>\n",
       "      <td>58780</td>\n",
       "      <td>https://search.shopping.naver.com/gate.nhn?id=...</td>\n",
       "      <td>네이버</td>\n",
       "    </tr>\n",
       "    <tr>\n",
       "      <th>3</th>\n",
       "      <td>SIEK 플레이스테이션 듀얼센스 무선 컨트롤러 (PS5)</td>\n",
       "      <td>63990</td>\n",
       "      <td>https://search.shopping.naver.com/gate.nhn?id=...</td>\n",
       "      <td>네이버</td>\n",
       "    </tr>\n",
       "    <tr>\n",
       "      <th>4</th>\n",
       "      <td>조이트론 닌텐도 스위치 MX그립콘 컨트롤러 조이콘 OLED 대응</td>\n",
       "      <td>54800</td>\n",
       "      <td>https://search.shopping.naver.com/gate.nhn?id=...</td>\n",
       "      <td>조이트론스토어</td>\n",
       "    </tr>\n",
       "  </tbody>\n",
       "</table>\n",
       "</div>"
      ],
      "text/plain": [
       "                                 title lprice  \\\n",
       "0            터틀비치 리콘 컨트롤러 XBOX/PC 게임패드  59900   \n",
       "1             닌텐도 스위치 프로 컨트롤러 (SWITCH)  69680   \n",
       "2         마이크로소프트 엑스박스 무선 컨트롤러 - 카본 블랙  58780   \n",
       "3      SIEK 플레이스테이션 듀얼센스 무선 컨트롤러 (PS5)  63990   \n",
       "4  조이트론 닌텐도 스위치 MX그립콘 컨트롤러 조이콘 OLED 대응  54800   \n",
       "\n",
       "                                                link     mall  \n",
       "0  https://search.shopping.naver.com/gate.nhn?id=...      네이버  \n",
       "1  https://search.shopping.naver.com/gate.nhn?id=...      네이버  \n",
       "2  https://search.shopping.naver.com/gate.nhn?id=...      네이버  \n",
       "3  https://search.shopping.naver.com/gate.nhn?id=...      네이버  \n",
       "4  https://search.shopping.naver.com/gate.nhn?id=...  조이트론스토어  "
      ]
     },
     "execution_count": 51,
     "metadata": {},
     "output_type": "execute_result"
    }
   ],
   "source": [
    "get_fields(one_result)"
   ]
  },
  {
   "cell_type": "code",
   "execution_count": 36,
   "id": "f7d5b96b",
   "metadata": {},
   "outputs": [],
   "source": [
    "def delete_tag(input_str):\n",
    "    input_str = input_str.replace(\"<b>\", \"\")\n",
    "    input_str = input_str.replace(\"</b>\", \"\")\n",
    "    return input_str"
   ]
  },
  {
   "cell_type": "code",
   "execution_count": 60,
   "id": "d353d17a",
   "metadata": {},
   "outputs": [
    {
     "name": "stdout",
     "output_type": "stream",
     "text": [
      "[2023-01-16 16:00:42.710901] Url Request Success\n"
     ]
    },
    {
     "data": {
      "text/html": [
       "<div>\n",
       "<style scoped>\n",
       "    .dataframe tbody tr th:only-of-type {\n",
       "        vertical-align: middle;\n",
       "    }\n",
       "\n",
       "    .dataframe tbody tr th {\n",
       "        vertical-align: top;\n",
       "    }\n",
       "\n",
       "    .dataframe thead th {\n",
       "        text-align: right;\n",
       "    }\n",
       "</style>\n",
       "<table border=\"1\" class=\"dataframe\">\n",
       "  <thead>\n",
       "    <tr style=\"text-align: right;\">\n",
       "      <th></th>\n",
       "      <th>title</th>\n",
       "      <th>lprice</th>\n",
       "      <th>link</th>\n",
       "      <th>mall</th>\n",
       "    </tr>\n",
       "  </thead>\n",
       "  <tbody>\n",
       "    <tr>\n",
       "      <th>8</th>\n",
       "      <td>Apple 맥북 프로 16형 2021년 M1 Pro 10코어 CPU 및 16코어 G...</td>\n",
       "      <td>3191850</td>\n",
       "      <td>https://search.shopping.naver.com/gate.nhn?id=...</td>\n",
       "      <td>네이버</td>\n",
       "    </tr>\n",
       "    <tr>\n",
       "      <th>9</th>\n",
       "      <td>Apple 맥북 에어 2022년 M2 8코어 CPU 및 8코어 GPU 256G 스타...</td>\n",
       "      <td>1485000</td>\n",
       "      <td>https://search.shopping.naver.com/gate.nhn?id=...</td>\n",
       "      <td>네이버</td>\n",
       "    </tr>\n",
       "  </tbody>\n",
       "</table>\n",
       "</div>"
      ],
      "text/plain": [
       "                                               title   lprice  \\\n",
       "8  Apple 맥북 프로 16형 2021년 M1 Pro 10코어 CPU 및 16코어 G...  3191850   \n",
       "9  Apple 맥북 에어 2022년 M2 8코어 CPU 및 8코어 GPU 256G 스타...  1485000   \n",
       "\n",
       "                                                link mall  \n",
       "8  https://search.shopping.naver.com/gate.nhn?id=...  네이버  \n",
       "9  https://search.shopping.naver.com/gate.nhn?id=...  네이버  "
      ]
     },
     "execution_count": 60,
     "metadata": {},
     "output_type": "execute_result"
    }
   ],
   "source": [
    "url = gen_search_url(\"shop\", \"맥북\", 1, 10)\n",
    "json_result = get_result_onepage(url)\n",
    "result = get_fields(json_result)\n",
    "result.tail(2)"
   ]
  },
  {
   "cell_type": "markdown",
   "id": "84c9a051",
   "metadata": {},
   "source": [
    "### (5) actMain()"
   ]
  },
  {
   "cell_type": "code",
   "execution_count": 53,
   "id": "4e903080",
   "metadata": {},
   "outputs": [
    {
     "name": "stdout",
     "output_type": "stream",
     "text": [
      "1\n",
      "101\n",
      "201\n",
      "301\n",
      "401\n",
      "501\n",
      "601\n",
      "701\n",
      "801\n",
      "901\n"
     ]
    }
   ],
   "source": [
    "for n in range(1, 1000, 100):\n",
    "    print(n)"
   ]
  },
  {
   "cell_type": "code",
   "execution_count": 55,
   "id": "86742896",
   "metadata": {},
   "outputs": [
    {
     "name": "stdout",
     "output_type": "stream",
     "text": [
      "1\n",
      "[2023-01-16 15:38:40.142674] Url Request Success\n",
      "101\n",
      "[2023-01-16 15:38:40.421882] Url Request Success\n",
      "201\n",
      "[2023-01-16 15:38:40.710287] Url Request Success\n",
      "301\n",
      "[2023-01-16 15:38:40.988003] Url Request Success\n",
      "401\n",
      "[2023-01-16 15:38:41.298638] Url Request Success\n",
      "501\n",
      "[2023-01-16 15:38:41.617840] Url Request Success\n",
      "601\n",
      "[2023-01-16 15:38:41.887806] Url Request Success\n",
      "701\n",
      "[2023-01-16 15:38:42.181510] Url Request Success\n",
      "801\n",
      "[2023-01-16 15:38:42.479455] Url Request Success\n",
      "901\n",
      "[2023-01-16 15:38:42.797680] Url Request Success\n"
     ]
    }
   ],
   "source": [
    "result_datas = []\n",
    "\n",
    "for n in range(1, 1000, 100):\n",
    "    print(n)\n",
    "    \n",
    "    url = gen_search_url(\"shop\", \"피자\", n, 100)\n",
    "    json_result = get_result_onepage(url)\n",
    "    result = get_fields(json_result)\n",
    "    result_datas.append(result)\n",
    "    \n",
    "#result_df = pd.concat"
   ]
  },
  {
   "cell_type": "code",
   "execution_count": 56,
   "id": "2cc59d43",
   "metadata": {},
   "outputs": [
    {
     "data": {
      "text/html": [
       "<div>\n",
       "<style scoped>\n",
       "    .dataframe tbody tr th:only-of-type {\n",
       "        vertical-align: middle;\n",
       "    }\n",
       "\n",
       "    .dataframe tbody tr th {\n",
       "        vertical-align: top;\n",
       "    }\n",
       "\n",
       "    .dataframe thead th {\n",
       "        text-align: right;\n",
       "    }\n",
       "</style>\n",
       "<table border=\"1\" class=\"dataframe\">\n",
       "  <thead>\n",
       "    <tr style=\"text-align: right;\">\n",
       "      <th></th>\n",
       "      <th>title</th>\n",
       "      <th>lprice</th>\n",
       "      <th>link</th>\n",
       "      <th>mall</th>\n",
       "    </tr>\n",
       "  </thead>\n",
       "  <tbody>\n",
       "    <tr>\n",
       "      <th>99</th>\n",
       "      <td>오뚜기 화덕 스타일 페페로니디아볼라 피자 365g</td>\n",
       "      <td>9800</td>\n",
       "      <td>https://search.shopping.naver.com/gate.nhn?id=...</td>\n",
       "      <td>네이버</td>\n",
       "    </tr>\n",
       "  </tbody>\n",
       "</table>\n",
       "</div>"
      ],
      "text/plain": [
       "                          title lprice  \\\n",
       "99  오뚜기 화덕 스타일 페페로니디아볼라 피자 365g   9800   \n",
       "\n",
       "                                                 link mall  \n",
       "99  https://search.shopping.naver.com/gate.nhn?id=...  네이버  "
      ]
     },
     "execution_count": 56,
     "metadata": {},
     "output_type": "execute_result"
    }
   ],
   "source": [
    "result_df = pd.concat(result_datas)\n",
    "result_df.tail(1)"
   ]
  },
  {
   "cell_type": "code",
   "execution_count": 57,
   "id": "63fb017b",
   "metadata": {},
   "outputs": [
    {
     "name": "stdout",
     "output_type": "stream",
     "text": [
      "<class 'pandas.core.frame.DataFrame'>\n",
      "Int64Index: 1000 entries, 0 to 99\n",
      "Data columns (total 4 columns):\n",
      " #   Column  Non-Null Count  Dtype \n",
      "---  ------  --------------  ----- \n",
      " 0   title   1000 non-null   object\n",
      " 1   lprice  1000 non-null   object\n",
      " 2   link    1000 non-null   object\n",
      " 3   mall    1000 non-null   object\n",
      "dtypes: object(4)\n",
      "memory usage: 39.1+ KB\n"
     ]
    }
   ],
   "source": [
    "result_df.info()"
   ]
  },
  {
   "cell_type": "code",
   "execution_count": 64,
   "id": "92a55f6a",
   "metadata": {},
   "outputs": [],
   "source": [
    "result_df.reset_index(drop=True, inplace=True)"
   ]
  },
  {
   "cell_type": "code",
   "execution_count": 65,
   "id": "e053d4fd",
   "metadata": {},
   "outputs": [
    {
     "data": {
      "text/html": [
       "<div>\n",
       "<style scoped>\n",
       "    .dataframe tbody tr th:only-of-type {\n",
       "        vertical-align: middle;\n",
       "    }\n",
       "\n",
       "    .dataframe tbody tr th {\n",
       "        vertical-align: top;\n",
       "    }\n",
       "\n",
       "    .dataframe thead th {\n",
       "        text-align: right;\n",
       "    }\n",
       "</style>\n",
       "<table border=\"1\" class=\"dataframe\">\n",
       "  <thead>\n",
       "    <tr style=\"text-align: right;\">\n",
       "      <th></th>\n",
       "      <th>title</th>\n",
       "      <th>lprice</th>\n",
       "      <th>link</th>\n",
       "      <th>mall</th>\n",
       "    </tr>\n",
       "  </thead>\n",
       "  <tbody>\n",
       "    <tr>\n",
       "      <th>999</th>\n",
       "      <td>오뚜기 화덕 스타일 페페로니디아볼라 피자 365g</td>\n",
       "      <td>9800</td>\n",
       "      <td>https://search.shopping.naver.com/gate.nhn?id=...</td>\n",
       "      <td>네이버</td>\n",
       "    </tr>\n",
       "  </tbody>\n",
       "</table>\n",
       "</div>"
      ],
      "text/plain": [
       "                           title lprice  \\\n",
       "999  오뚜기 화덕 스타일 페페로니디아볼라 피자 365g   9800   \n",
       "\n",
       "                                                  link mall  \n",
       "999  https://search.shopping.naver.com/gate.nhn?id=...  네이버  "
      ]
     },
     "execution_count": 65,
     "metadata": {},
     "output_type": "execute_result"
    }
   ],
   "source": [
    "result_df.tail(1)"
   ]
  },
  {
   "cell_type": "code",
   "execution_count": 66,
   "id": "6bc8132c",
   "metadata": {},
   "outputs": [
    {
     "name": "stdout",
     "output_type": "stream",
     "text": [
      "<class 'pandas.core.frame.DataFrame'>\n",
      "RangeIndex: 1000 entries, 0 to 999\n",
      "Data columns (total 4 columns):\n",
      " #   Column  Non-Null Count  Dtype \n",
      "---  ------  --------------  ----- \n",
      " 0   title   1000 non-null   object\n",
      " 1   lprice  1000 non-null   object\n",
      " 2   link    1000 non-null   object\n",
      " 3   mall    1000 non-null   object\n",
      "dtypes: object(4)\n",
      "memory usage: 31.4+ KB\n"
     ]
    }
   ],
   "source": [
    "result_df.info()"
   ]
  },
  {
   "cell_type": "markdown",
   "id": "b00cdc92",
   "metadata": {},
   "source": [
    "### pandas에서 데이터 타입 변환하기"
   ]
  },
  {
   "cell_type": "code",
   "execution_count": 70,
   "id": "9104ef59",
   "metadata": {},
   "outputs": [],
   "source": [
    "result_df[\"lprice\"] = result_df[\"lprice\"].astype(\"float\")"
   ]
  },
  {
   "cell_type": "code",
   "execution_count": 71,
   "id": "cfc14d32",
   "metadata": {},
   "outputs": [
    {
     "name": "stdout",
     "output_type": "stream",
     "text": [
      "<class 'pandas.core.frame.DataFrame'>\n",
      "RangeIndex: 1000 entries, 0 to 999\n",
      "Data columns (total 4 columns):\n",
      " #   Column  Non-Null Count  Dtype  \n",
      "---  ------  --------------  -----  \n",
      " 0   title   1000 non-null   object \n",
      " 1   lprice  1000 non-null   float64\n",
      " 2   link    1000 non-null   object \n",
      " 3   mall    1000 non-null   object \n",
      "dtypes: float64(1), object(3)\n",
      "memory usage: 31.4+ KB\n"
     ]
    }
   ],
   "source": [
    "result_df.info()"
   ]
  },
  {
   "cell_type": "code",
   "execution_count": 76,
   "id": "26c2727c",
   "metadata": {},
   "outputs": [],
   "source": [
    "import matplotlib.pyplot as plt\n",
    "import seaborn as sns\n",
    "plt.rcParams['font.family'] = 'NanumGothic'"
   ]
  },
  {
   "cell_type": "code",
   "execution_count": 79,
   "id": "322b019e",
   "metadata": {},
   "outputs": [
    {
     "data": {
      "image/png": "[encoded data removed]",
      "text/plain": [
       "<Figure size 1500x600 with 1 Axes>"
      ]
     },
     "metadata": {},
     "output_type": "display_data"
    }
   ],
   "source": [
    "plt.figure(figsize=(15,6))\n",
    "sns.countplot(\n",
    "    x=\"mall\", \n",
    "    data=result_df,\n",
    "    palette=\"RdYlGn\", \n",
    "    order=result_df[\"mall\"].value_counts().index)\n",
    "\n",
    "plt.xticks(rotation=90)\n",
    "plt.show();"
   ]
  },
  {
   "cell_type": "code",
   "execution_count": null,
   "id": "f57fe78c",
   "metadata": {},
   "outputs": [],
   "source": []
  }
 ],
 "metadata": {
  "kernelspec": {
   "display_name": "Python 3 (ipykernel)",
   "language": "python",
   "name": "python3"
  },
  "language_info": {
   "codemirror_mode": {
    "name": "ipython",
    "version": 3
   },
   "file_extension": ".py",
   "mimetype": "text/x-python",
   "name": "python",
   "nbconvert_exporter": "python",
   "pygments_lexer": "ipython3",
   "version": "3.8.10"
  }
 },
 "nbformat": 4,
 "nbformat_minor": 5
}
