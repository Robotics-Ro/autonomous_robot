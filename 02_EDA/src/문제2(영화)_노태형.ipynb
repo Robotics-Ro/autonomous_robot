{
 "cells": [
  {
   "attachments": {},
   "cell_type": "markdown",
   "id": "a80d3aab",
   "metadata": {},
   "source": [
    "# 1. 웹 크롤링 로직\n",
    "\n",
    "### 1.1 드라이버 기동 -> 홈페이지 이동 -> 빅뱅 검색 -> for문을 사용해서 12시즌 타이틀 넙버, 타이틀, 방영날짜, 평점 리스트에 넣기"
   ]
  },
  {
   "cell_type": "code",
   "execution_count": 1,
   "id": "0e304250",
   "metadata": {},
   "outputs": [
    {
     "ename": "NoSuchElementException",
     "evalue": "Message: no such element: Unable to locate element: {\"method\":\"css selector\",\"selector\":\"#__next > main > div > section.ipc-page-background.ipc-page-background--base.sc-9b716f3b-0.xBaTH > section > div:nth-child(4) > section > section > div.sc-11c0820-1.eDbIBR > div > div:nth-child(1) > a > span.sc-89e7233a-1.kYAXOp.episode-guide-text\"}\n  (Session info: chrome=109.0.5414.119)\nStacktrace:\n#0 0x5571cbc87303 <unknown>\n#1 0x5571cba5bd37 <unknown>\n#2 0x5571cba985b2 <unknown>\n#3 0x5571cba986c1 <unknown>\n#4 0x5571cbad2b34 <unknown>\n#5 0x5571cbab89ad <unknown>\n#6 0x5571cbad088c <unknown>\n#7 0x5571cbab8753 <unknown>\n#8 0x5571cba8ba14 <unknown>\n#9 0x5571cba8cb7e <unknown>\n#10 0x5571cbcd632e <unknown>\n#11 0x5571cbcd9c0e <unknown>\n#12 0x5571cbcbc610 <unknown>\n#13 0x5571cbcdac23 <unknown>\n#14 0x5571cbcae545 <unknown>\n#15 0x5571cbcfb6a8 <unknown>\n#16 0x5571cbcfb836 <unknown>\n#17 0x5571cbd16d13 <unknown>\n#18 0x7faa96e56609 start_thread\n",
     "output_type": "error",
     "traceback": [
      "\u001b[0;31m---------------------------------------------------------------------------\u001b[0m",
      "\u001b[0;31mNoSuchElementException\u001b[0m                    Traceback (most recent call last)",
      "Cell \u001b[0;32mIn[1], line 28\u001b[0m\n\u001b[1;32m     26\u001b[0m name \u001b[39m=\u001b[39m driver\u001b[39m.\u001b[39mfind_element(By\u001b[39m.\u001b[39mCSS_SELECTOR, \u001b[39m'\u001b[39m\u001b[39m#__next > main > div.ipc-page-content-container.ipc-page-content-container--full.sc-78242121-0.iaCeoy > div.ipc-page-content-container.ipc-page-content-container--center > section > div > div.ipc-page-grid__item.ipc-page-grid__item--span-2 > section:nth-child(3) > div.sc-17bafbdb-2.ffAEHI > ul > li:nth-child(1) > div.ipc-metadata-list-summary-item__c > div.ipc-metadata-list-summary-item__tc > a\u001b[39m\u001b[39m'\u001b[39m)\n\u001b[1;32m     27\u001b[0m name\u001b[39m.\u001b[39mclick()\n\u001b[0;32m---> 28\u001b[0m all_season \u001b[39m=\u001b[39m driver\u001b[39m.\u001b[39;49mfind_element(By\u001b[39m.\u001b[39;49mCSS_SELECTOR, \u001b[39m'\u001b[39;49m\u001b[39m#__next > main > div > section.ipc-page-background.ipc-page-background--base.sc-9b716f3b-0.xBaTH > section > div:nth-child(4) > section > section > div.sc-11c0820-1.eDbIBR > div > div:nth-child(1) > a > span.sc-89e7233a-1.kYAXOp.episode-guide-text\u001b[39;49m\u001b[39m'\u001b[39;49m)\n\u001b[1;32m     29\u001b[0m all_season\u001b[39m.\u001b[39mclick()\n\u001b[1;32m     33\u001b[0m \u001b[39mfor\u001b[39;00m n \u001b[39min\u001b[39;00m \u001b[39mrange\u001b[39m(\u001b[39m12\u001b[39m):\n",
      "File \u001b[0;32m~/venv/data_venv/lib/python3.8/site-packages/selenium/webdriver/remote/webdriver.py:861\u001b[0m, in \u001b[0;36mWebDriver.find_element\u001b[0;34m(self, by, value)\u001b[0m\n\u001b[1;32m    858\u001b[0m     by \u001b[39m=\u001b[39m By\u001b[39m.\u001b[39mCSS_SELECTOR\n\u001b[1;32m    859\u001b[0m     value \u001b[39m=\u001b[39m \u001b[39m'\u001b[39m\u001b[39m[name=\u001b[39m\u001b[39m\"\u001b[39m\u001b[39m%s\u001b[39;00m\u001b[39m\"\u001b[39m\u001b[39m]\u001b[39m\u001b[39m'\u001b[39m \u001b[39m%\u001b[39m value\n\u001b[0;32m--> 861\u001b[0m \u001b[39mreturn\u001b[39;00m \u001b[39mself\u001b[39;49m\u001b[39m.\u001b[39;49mexecute(Command\u001b[39m.\u001b[39;49mFIND_ELEMENT, {\u001b[39m\"\u001b[39;49m\u001b[39musing\u001b[39;49m\u001b[39m\"\u001b[39;49m: by, \u001b[39m\"\u001b[39;49m\u001b[39mvalue\u001b[39;49m\u001b[39m\"\u001b[39;49m: value})[\u001b[39m\"\u001b[39m\u001b[39mvalue\u001b[39m\u001b[39m\"\u001b[39m]\n",
      "File \u001b[0;32m~/venv/data_venv/lib/python3.8/site-packages/selenium/webdriver/remote/webdriver.py:444\u001b[0m, in \u001b[0;36mWebDriver.execute\u001b[0;34m(self, driver_command, params)\u001b[0m\n\u001b[1;32m    442\u001b[0m response \u001b[39m=\u001b[39m \u001b[39mself\u001b[39m\u001b[39m.\u001b[39mcommand_executor\u001b[39m.\u001b[39mexecute(driver_command, params)\n\u001b[1;32m    443\u001b[0m \u001b[39mif\u001b[39;00m response:\n\u001b[0;32m--> 444\u001b[0m     \u001b[39mself\u001b[39;49m\u001b[39m.\u001b[39;49merror_handler\u001b[39m.\u001b[39;49mcheck_response(response)\n\u001b[1;32m    445\u001b[0m     response[\u001b[39m\"\u001b[39m\u001b[39mvalue\u001b[39m\u001b[39m\"\u001b[39m] \u001b[39m=\u001b[39m \u001b[39mself\u001b[39m\u001b[39m.\u001b[39m_unwrap_value(response\u001b[39m.\u001b[39mget(\u001b[39m\"\u001b[39m\u001b[39mvalue\u001b[39m\u001b[39m\"\u001b[39m, \u001b[39mNone\u001b[39;00m))\n\u001b[1;32m    446\u001b[0m     \u001b[39mreturn\u001b[39;00m response\n",
      "File \u001b[0;32m~/venv/data_venv/lib/python3.8/site-packages/selenium/webdriver/remote/errorhandler.py:249\u001b[0m, in \u001b[0;36mErrorHandler.check_response\u001b[0;34m(self, response)\u001b[0m\n\u001b[1;32m    247\u001b[0m         alert_text \u001b[39m=\u001b[39m value[\u001b[39m\"\u001b[39m\u001b[39malert\u001b[39m\u001b[39m\"\u001b[39m]\u001b[39m.\u001b[39mget(\u001b[39m\"\u001b[39m\u001b[39mtext\u001b[39m\u001b[39m\"\u001b[39m)\n\u001b[1;32m    248\u001b[0m     \u001b[39mraise\u001b[39;00m exception_class(message, screen, stacktrace, alert_text)  \u001b[39m# type: ignore[call-arg]  # mypy is not smart enough here\u001b[39;00m\n\u001b[0;32m--> 249\u001b[0m \u001b[39mraise\u001b[39;00m exception_class(message, screen, stacktrace)\n",
      "\u001b[0;31mNoSuchElementException\u001b[0m: Message: no such element: Unable to locate element: {\"method\":\"css selector\",\"selector\":\"#__next > main > div > section.ipc-page-background.ipc-page-background--base.sc-9b716f3b-0.xBaTH > section > div:nth-child(4) > section > section > div.sc-11c0820-1.eDbIBR > div > div:nth-child(1) > a > span.sc-89e7233a-1.kYAXOp.episode-guide-text\"}\n  (Session info: chrome=109.0.5414.119)\nStacktrace:\n#0 0x5571cbc87303 <unknown>\n#1 0x5571cba5bd37 <unknown>\n#2 0x5571cba985b2 <unknown>\n#3 0x5571cba986c1 <unknown>\n#4 0x5571cbad2b34 <unknown>\n#5 0x5571cbab89ad <unknown>\n#6 0x5571cbad088c <unknown>\n#7 0x5571cbab8753 <unknown>\n#8 0x5571cba8ba14 <unknown>\n#9 0x5571cba8cb7e <unknown>\n#10 0x5571cbcd632e <unknown>\n#11 0x5571cbcd9c0e <unknown>\n#12 0x5571cbcbc610 <unknown>\n#13 0x5571cbcdac23 <unknown>\n#14 0x5571cbcae545 <unknown>\n#15 0x5571cbcfb6a8 <unknown>\n#16 0x5571cbcfb836 <unknown>\n#17 0x5571cbd16d13 <unknown>\n#18 0x7faa96e56609 start_thread\n"
     ]
    }
   ],
   "source": [
    "from selenium import webdriver\n",
    "from selenium.webdriver.support.wait import WebDriverWait\n",
    "from selenium.webdriver.support import expected_conditions as EC\n",
    "from selenium.webdriver.common.by import By\n",
    "from selenium.webdriver.common.keys import Keys\n",
    "from selenium.webdriver.support.ui import Select\n",
    "from selenium.webdriver.chrome.service import Service\n",
    "\n",
    "season_list = []\n",
    "\n",
    "n = 0\n",
    "\n",
    "chrome_options = webdriver.ChromeOptions()\n",
    "driver = webdriver.Chrome(service=Service('../driver/chromedriver'), options=chrome_options)\n",
    "driver.get('https://www.imdb.com/')\n",
    "\n",
    "about = driver.find_element(By.CSS_SELECTOR, '#suggestion-search')\n",
    "\n",
    "#css_selector = '''#docsearch-input'''\n",
    "#search_docs = driver.find_element(By.CSS_SELECTOR, css_selector)\n",
    "about.click()\n",
    "about.send_keys('Big Bang Theory')\n",
    "\n",
    "about.send_keys(Keys.ENTER)\n",
    "\n",
    "name = driver.find_element(By.CSS_SELECTOR, '#__next > main > div.ipc-page-content-container.ipc-page-content-container--full.sc-78242121-0.iaCeoy > div.ipc-page-content-container.ipc-page-content-container--center > section > div > div.ipc-page-grid__item.ipc-page-grid__item--span-2 > section:nth-child(3) > div.sc-17bafbdb-2.ffAEHI > ul > li:nth-child(1) > div.ipc-metadata-list-summary-item__c > div.ipc-metadata-list-summary-item__tc > a')\n",
    "name.click()\n",
    "all_season = driver.find_element(By.CSS_SELECTOR, '#__next > main > div > section.ipc-page-background.ipc-page-background--base.sc-9b716f3b-0.xBaTH > section > div:nth-child(4) > section > section > div.sc-11c0820-1.eDbIBR > div > div:nth-child(1) > a > span.sc-89e7233a-1.kYAXOp.episode-guide-text')\n",
    "all_season.click()\n",
    "\n",
    "\n",
    "\n",
    "for n in range(12):\n",
    "    select_season = driver.find_element(By.ID, 'bySeason').find_elements(By.TAG_NAME, 'option')\n",
    "    select_season[n].click()\n",
    "    \n",
    "    wait = WebDriverWait(driver, 10)\n",
    "    element = wait.until(EC.element_to_be_clickable((By.CSS_SELECTOR, '#episodes_content > div.clear > div.list.detail.eplist > div:nth-child(1) > div.info > strong > a')))\n",
    "    print(n)\n",
    "    \n",
    "    detail = driver.find_element(By.CSS_SELECTOR, '#episodes_content > div.clear > div.list.detail.eplist')\n",
    "    detail_boxes = detail.find_elements(By.CLASS_NAME, 'info')\n",
    "    season_list.append([])\n",
    "    for detail_box in detail_boxes:\n",
    "        title = detail_box.find_element(By.TAG_NAME, 'strong').text\n",
    "        airdate = detail_box.find_element(By.CLASS_NAME, 'airdate').text\n",
    "        rate = detail_box.find_element(By.CLASS_NAME, 'ipl-rating-star__rating').text\n",
    "        \n",
    "        \n",
    "        season_list[n].append([title,airdate,rate])\n"
   ]
  },
  {
   "attachments": {},
   "cell_type": "markdown",
   "id": "0fc0a836",
   "metadata": {},
   "source": [
    "### 1.2 데이터 내부 확인"
   ]
  },
  {
   "cell_type": "code",
   "execution_count": null,
   "id": "79d5fe23",
   "metadata": {},
   "outputs": [],
   "source": [
    "season_list"
   ]
  },
  {
   "cell_type": "code",
   "execution_count": null,
   "id": "d3b1eb59",
   "metadata": {},
   "outputs": [],
   "source": [
    "import pandas as pd\n",
    "\n",
    "title_num = []\n",
    "title_list =[]\n",
    "airdate_list = []\n",
    "rate_list = []\n",
    "\n",
    "\n",
    "for i in range(len(season_list)):\n",
    "    print(i)\n",
    "    for j in range(len(season_list[i])):\n",
    "        print(len(season_list[i]))\n",
    "        title_num.append(f'{i+1}_{j+1}')\n",
    "        title_list.append(season_list[i][j][0])\n",
    "        airdate_list.append(season_list[i][j][1])\n",
    "        rate_list.append(season_list[i][j][2])"
   ]
  },
  {
   "cell_type": "code",
   "execution_count": null,
   "id": "73746408",
   "metadata": {},
   "outputs": [],
   "source": [
    "bigbang = pd.DataFrame({'title_num':title_num, 'title':title_list, 'airdate':airdate_list, 'rate':rate_list})\n",
    "bigbang.set_index('title_num')\n",
    "bigbang.head()\n",
    "\n",
    "bigbang.sort_values(by='rate', ascending=False).head()"
   ]
  },
  {
   "cell_type": "code",
   "execution_count": null,
   "id": "dbb10fba",
   "metadata": {},
   "outputs": [],
   "source": [
    "num = []\n",
    "title = []\n",
    "airdate = []\n",
    "rate = []\n",
    "count = 1\n",
    "\n",
    "for n in range(12):\n",
    "    for each in season_list:\n",
    "        num.append(count)\n",
    "        count+=1\n",
    "        title.append(each[n][0])\n",
    "        airdate.append(each[n][1])\n",
    "        rate.append(each[n][2])\n"
   ]
  },
  {
   "cell_type": "code",
   "execution_count": null,
   "id": "51d963da",
   "metadata": {},
   "outputs": [],
   "source": [
    "import numpy as np\n",
    "samples = [1, 1, 2, 6, 7, 8, 9]\n",
    "np.median(samples)"
   ]
  },
  {
   "cell_type": "code",
   "execution_count": null,
   "id": "141f29f4",
   "metadata": {},
   "outputs": [],
   "source": [
    "a = [1,2,3,4,5,6,7,8,9,10]\n",
    "a.pop()\n",
    "print(a)"
   ]
  },
  {
   "cell_type": "code",
   "execution_count": null,
   "id": "2fc78b57",
   "metadata": {},
   "outputs": [],
   "source": [
    "import matplotlib.pyplot as plt\n",
    "import seaborn as sns\n",
    "%matplotlib inline\n",
    "\n",
    "sns.pairplot(\n",
    "    bigbang,\n",
    "    x_vars=[\"airdate\"],\n",
    "    y_vars=[\"title_num\"],\n",
    "    hue=\"rate\"\n",
    ")\n",
    "\n",
    "plt.show();\n",
    "\n",
    "#plt.figure(figsize=(10,8))\n",
    "#sns.heatmap(bigbang_pivot, annot=True, fmt=\"d\")\n",
    "#plt.show()"
   ]
  },
  {
   "cell_type": "code",
   "execution_count": null,
   "id": "50865084",
   "metadata": {},
   "outputs": [],
   "source": [
    "#bigbang.sort_values(by='rate', ascending=False).head(20)\n",
    "\n",
    "sns.jointplot(x=bigbang['rate'], y=bigbang['title_num'], kind = 'scatter')\n"
   ]
  }
 ],
 "metadata": {
  "kernelspec": {
   "display_name": "opencv",
   "language": "python",
   "name": "python3"
  },
  "language_info": {
   "codemirror_mode": {
    "name": "ipython",
    "version": 3
   },
   "file_extension": ".py",
   "mimetype": "text/x-python",
   "name": "python",
   "nbconvert_exporter": "python",
   "pygments_lexer": "ipython3",
   "version": "3.8.10 (default, Nov 14 2022, 12:59:47) \n[GCC 9.4.0]"
  },
  "vscode": {
   "interpreter": {
    "hash": "78815e4bd8d4efa54426257fde7e5a239c8d56702f293c1197fc015a0fd48e74"
   }
  }
 },
 "nbformat": 4,
 "nbformat_minor": 5
}
