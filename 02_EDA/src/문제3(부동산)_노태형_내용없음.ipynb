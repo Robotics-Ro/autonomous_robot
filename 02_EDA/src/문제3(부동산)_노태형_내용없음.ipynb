{
 "cells": [
  {
   "cell_type": "code",
   "execution_count": null,
   "metadata": {},
   "outputs": [],
   "source": []
  }
 ],
 "metadata": {
  "kernelspec": {
   "display_name": "opencv",
   "language": "python",
   "name": "python3"
  },
  "language_info": {
   "name": "python",
   "version": "3.8.10 (default, Nov 14 2022, 12:59:47) \n[GCC 9.4.0]"
  },
  "vscode": {
   "interpreter": {
    "hash": "78815e4bd8d4efa54426257fde7e5a239c8d56702f293c1197fc015a0fd48e74"
   }
  }
 },
 "nbformat": 4,
 "nbformat_minor": 5
}
