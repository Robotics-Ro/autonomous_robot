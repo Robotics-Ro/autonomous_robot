{
 "cells": [
  {
   "cell_type": "code",
   "execution_count": 27,
   "id": "ca915884",
   "metadata": {},
   "outputs": [
    {
     "name": "stdout",
     "output_type": "stream",
     "text": [
      "1 . /movie/bi/mi/basic.naver?code=223800\n",
      "2 . /movie/bi/mi/basic.naver?code=74977\n",
      "3 . /movie/bi/mi/basic.naver?code=184509\n",
      "4 . /movie/bi/mi/basic.naver?code=208508\n",
      "5 . /movie/bi/mi/basic.naver?code=201642\n",
      "6 . /movie/bi/mi/basic.naver?code=184513\n",
      "7 . /movie/bi/mi/basic.naver?code=200745\n",
      "8 . /movie/bi/mi/basic.naver?code=222301\n",
      "9 . /movie/bi/mi/basic.naver?code=212099\n",
      "10 . /movie/bi/mi/basic.naver?code=215466\n",
      "11 . /movie/bi/mi/basic.naver?code=224601\n",
      "12 . /movie/bi/mi/basic.naver?code=224922\n",
      "13 . /movie/bi/mi/basic.naver?code=220733\n",
      "14 . /movie/bi/mi/basic.naver?code=217465\n",
      "15 . /movie/bi/mi/basic.naver?code=224929\n",
      "16 . /movie/bi/mi/basic.naver?code=213259\n",
      "17 . /movie/bi/mi/basic.naver?code=221218\n",
      "18 . /movie/bi/mi/basic.naver?code=225173\n",
      "19 . /movie/bi/mi/basic.naver?code=216214\n",
      "20 . /movie/bi/mi/basic.naver?code=193855\n",
      "21 . /movie/bi/mi/basic.naver?code=217479\n",
      "22 . /movie/bi/mi/basic.naver?code=216209\n",
      "23 . /movie/bi/mi/basic.naver?code=198413\n",
      "24 . /movie/bi/mi/basic.naver?code=187311\n",
      "25 . /movie/bi/mi/basic.naver?code=220853\n",
      "26 . /movie/bi/mi/basic.naver?code=219402\n",
      "27 . /movie/bi/mi/basic.naver?code=195973\n",
      "28 . /movie/bi/mi/basic.naver?code=222535\n",
      "29 . /movie/bi/mi/basic.naver?code=225700\n",
      "30 . /movie/bi/mi/basic.naver?code=211161\n",
      "31 . /movie/bi/mi/basic.naver?code=184348\n",
      "32 . /movie/bi/mi/basic.naver?code=219573\n",
      "33 . /movie/bi/mi/basic.naver?code=225818\n",
      "34 . /movie/bi/mi/basic.naver?code=18847\n",
      "35 . /movie/bi/mi/basic.naver?code=201641\n",
      "36 . /movie/bi/mi/basic.naver?code=81888\n",
      "37 . /movie/bi/mi/basic.naver?code=210832\n",
      "38 . /movie/bi/mi/basic.naver?code=224870\n",
      "39 . /movie/bi/mi/basic.naver?code=191597\n",
      "40 . /movie/bi/mi/basic.naver?code=223799\n",
      "41 . /movie/bi/mi/basic.naver?code=216173\n",
      "42 . /movie/bi/mi/basic.naver?code=209732\n",
      "43 . /movie/bi/mi/basic.naver?code=224834\n",
      "44 . /movie/bi/mi/basic.naver?code=207938\n",
      "45 . /movie/bi/mi/basic.naver?code=195758\n",
      "46 . /movie/bi/mi/basic.naver?code=220792\n",
      "47 . /movie/bi/mi/basic.naver?code=187821\n",
      "48 . /movie/bi/mi/basic.naver?code=187347\n",
      "49 . /movie/bi/mi/basic.naver?code=224777\n",
      "50 . /movie/bi/mi/basic.naver?code=220464\n"
     ]
    }
   ],
   "source": [
    "import urllib\n",
    "import pandas as pd\n",
    "from bs4 import BeautifulSoup\n",
    "from urllib.request import urlopen\n",
    "from urllib.request import Request\n",
    "\n",
    "url = \"https://movie.naver.com/movie/sdb/rank/rmovie.naver\"\n",
    "\n",
    "res = urlopen(url)\n",
    "\n",
    "soup = BeautifulSoup(res, \"html.parser\")\n",
    "\n",
    "ranks = soup.find_all('a', href=True)\n",
    "\n",
    "site = \"/movie/bi/mi/basic.naver?code=\"\n",
    "\n",
    "rank_l =[]\n",
    "count = 1\n",
    "for rank in ranks :\n",
    "    if site in rank[\"href\"]:\n",
    "        if (count < 51):\n",
    "            print(count, \".\", rank[\"href\"])\n",
    "            count+=1"
   ]
  },
  {
   "cell_type": "code",
   "execution_count": null,
   "id": "d390cb6c",
   "metadata": {},
   "outputs": [],
   "source": []
  }
 ],
 "metadata": {
  "kernelspec": {
   "display_name": "Python 3 (ipykernel)",
   "language": "python",
   "name": "python3"
  },
  "language_info": {
   "codemirror_mode": {
    "name": "ipython",
    "version": 3
   },
   "file_extension": ".py",
   "mimetype": "text/x-python",
   "name": "python",
   "nbconvert_exporter": "python",
   "pygments_lexer": "ipython3",
   "version": "3.8.10"
  }
 },
 "nbformat": 4,
 "nbformat_minor": 5
}
