{
 "cells": [
  {
   "cell_type": "code",
   "execution_count": null,
   "id": "ffc9de69",
   "metadata": {},
   "outputs": [],
   "source": [
    "from selenium import webdriver\n",
    "from selenium.webdriver.chrome.service import Service\n",
    "from selenium.webdriver.common.by import By\n",
    "from selenium.webdriver.common.keys import Keys\n",
    "from selenium.webdriver import ActionChains\n",
    "from bs4 import BeautifulSoup\n",
    "from selenium import webdriver\n",
    "from selenium.webdriver.support.ui import WebDriverWait\n",
    "from selenium.webdriver.support import expected_conditions as EC\n",
    "\n",
    "chrome_options = webdriver.ChromeOptions()\n",
    "\n",
    "url = 'https://www.opinet.co.kr/searRgSelect.do'\n",
    "driver = webdriver.Chrome(service=Service('../driver/chromedriver'), options=chrome_options)\n",
    "driver.get(url)\n",
    "\n",
    "count = 1\n",
    "\n",
    "chk_Str = 'chk3_'\n",
    "\n",
    "gas_station = []\n",
    "\n",
    "for n in range(6) :\n",
    "\n",
    "    if (count == 1 ):\n",
    "        gas_brand = driver.find_element(By.ID, chk_Str + str(count) )\n",
    "        gas_brand.click()\n",
    "    elif (count == 5):\n",
    "        gas_brand = driver.find_element(By.ID, chk_Str + str(count -1) )\n",
    "        gas_brand.click()\n",
    "        count+=2\n",
    "        gas_brand = driver.find_element(By.ID, chk_Str + str(count) )\n",
    "        gas_brand.click()\n",
    "        \n",
    "    else :\n",
    "        gas_brand = driver.find_element(By.ID, chk_Str + str(count -1) )\n",
    "        gas_brand.click()\n",
    "        gas_brand = driver.find_element(By.ID, chk_Str + str(count) )\n",
    "        gas_brand.click()\n",
    "\n",
    "    count+=1\n",
    "    \n",
    "\n",
    "    search_clk = driver.find_element(By.CSS_SELECTOR, '''#searRgSelect''').click()\n",
    "\n",
    "    #driver.implicitly_wait(5) # seconds\n",
    "    #element = WebDriverWait(driver, 30).until(EC.presence_of_element_located((By.ID, \"templ_list0\")))\n",
    "    wait = WebDriverWait(driver, 10)\n",
    "    element = wait.until(EC.element_to_be_clickable((By.CSS_SELECTOR, '#body1 > tr:nth-child(2) > td.rlist > a')))\n",
    "    driver.implicitly_wait(2)\n",
    "\n",
    "    print(count)\n",
    "    text_Gas = driver.find_element(By.CSS_SELECTOR, '''#searrgVO > div:nth-child(17)''')\n",
    "\n",
    "    gas_station.append(text_Gas.text.split(\" \"))"
   ]
  }
 ],
 "metadata": {
  "kernelspec": {
   "display_name": "Python 3 (ipykernel)",
   "language": "python",
   "name": "python3"
  },
  "language_info": {
   "codemirror_mode": {
    "name": "ipython",
    "version": 3
   },
   "file_extension": ".py",
   "mimetype": "text/x-python",
   "name": "python",
   "nbconvert_exporter": "python",
   "pygments_lexer": "ipython3",
   "version": "3.8.10"
  }
 },
 "nbformat": 4,
 "nbformat_minor": 5
}
