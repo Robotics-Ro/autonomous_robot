{
 "cells": [
  {
   "attachments": {},
   "cell_type": "markdown",
   "metadata": {},
   "source": [
    "### 0. 기본 셀레니옴 라이브러리 import\n",
    "## 1. 스타벅스 사이트 기동 -> STORE 페이지 까지 이동"
   ]
  },
  {
   "cell_type": "code",
   "execution_count": 2,
   "metadata": {},
   "outputs": [],
   "source": [
    "from selenium import webdriver\n",
    "from selenium.webdriver.support.wait import WebDriverWait\n",
    "from selenium.webdriver.common.action_chains import ActionChains\n",
    "from selenium.webdriver.support import expected_conditions as EC\n",
    "from selenium.webdriver.common.by import By\n",
    "from selenium.webdriver.common.keys import Keys\n",
    "from selenium.webdriver.support.ui import Select\n",
    "from selenium.webdriver.chrome.service import Service\n",
    "\n",
    "season_list = []\n",
    "\n",
    "n = 0\n",
    "\n",
    "chrome_options = webdriver.ChromeOptions()\n",
    "chrome_options.add_argument(\"--start-maximized\") # 시작시 윈도우 창 최대화\n",
    "driver = webdriver.Chrome(service=Service('../driver/chromedriver'), options=chrome_options)\n",
    "driver.get('https://www.starbucks.co.kr/')\n",
    "\n",
    "\n",
    "def click_bar(type,str):\n",
    "    driver.find_element(type, str).click()\n",
    "\n",
    "def click_hold_bar(type,str):\n",
    "    action = ActionChains(driver)\n",
    "    element = driver.find_element(type, str)\n",
    "    action.click_and_hold(on_element= element)\n",
    "    action.perform()\n",
    "\n",
    "menubar_str = '#gnb > div > nav > div > ul > li.gnb_nav03 > h2 > a'\n",
    "\n",
    "click_bar(By.CSS_SELECTOR,menubar_str)\n",
    "#driver.find_element(By.CSS_SELECTOR, '#gnb > div > nav > div > ul > li.gnb_nav03 > h2 > a').find_element(By.TAG_NAME, 'href').click()\n",
    "#driver.find_element(By.CSS_SELECTOR, '#gnb > div > nav > div > ul > li.gnb_nav03 > h2 > a').\n",
    "#click_button('#gnb > div > nav > div > ul > li.gnb_nav03 > div > div > div > ul:nth-child(1) > li.gnb_sub_ttl > a')\n",
    "\n",
    "\n",
    "\n",
    "# #css_selector = '''#docsearch-input'''\n",
    "# #search_docs = driver.find_element(By.CSS_SELECTOR, css_selector)\n",
    "# about.click()\n",
    "# about.send_keys('Big Bang Theory')\n",
    "\n",
    "# about.send_keys(Keys.ENTER)\n",
    "\n",
    "# name = driver.find_element(By.CSS_SELECTOR, '#__next > main > div.ipc-page-content-container.ipc-page-content-container--full.sc-78242121-0.iaCeoy > div.ipc-page-content-container.ipc-page-content-container--center > section > div > div.ipc-page-grid__item.ipc-page-grid__item--span-2 > section:nth-child(3) > div.sc-17bafbdb-2.ffAEHI > ul > li:nth-child(1) > div.ipc-metadata-list-summary-item__c > div.ipc-metadata-list-summary-item__tc > a')\n",
    "# name.click()\n",
    "# all_season = driver.find_element(By.CSS_SELECTOR, '#__next > main > div > section.ipc-page-background.ipc-page-background--base.sc-9b716f3b-0.xBaTH > section > div:nth-child(4) > section > section > div.sc-11c0820-1.eDbIBR > div > div:nth-child(1) > a > span.sc-89e7233a-1.kYAXOp.episode-guide-text')\n",
    "# all_season.click()\n",
    "\n",
    "\n",
    "\n",
    "# for n in range(12):\n",
    "#     select_season = driver.find_element(By.ID, 'bySeason').find_elements(By.TAG_NAME, 'option')\n",
    "#     select_season[n].click()\n",
    "    \n",
    "#     wait = WebDriverWait(driver, 10)\n",
    "#     element = wait.until(EC.element_to_be_clickable((By.CSS_SELECTOR, '#episodes_content > div.clear > div.list.detail.eplist > div:nth-child(1) > div.info > strong > a')))\n",
    "#     print(n)\n",
    "    \n",
    "#     detail = driver.find_element(By.CSS_SELECTOR, '#episodes_content > div.clear > div.list.detail.eplist')\n",
    "#     detail_boxes = detail.find_elements(By.CLASS_NAME, 'info')\n",
    "#     season_list.append([])\n",
    "#     for detail_box in detail_boxes:\n",
    "#         title = detail_box.find_element(By.TAG_NAME, 'strong').text\n",
    "#         airdate = detail_box.find_element(By.CLASS_NAME, 'airdate').text\n",
    "#         rate = detail_box.find_element(By.CLASS_NAME, 'ipl-rating-star__rating').text\n",
    "        \n",
    "        \n",
    "#         season_list[n].append([title,airdate,rate])"
   ]
  },
  {
   "attachments": {},
   "cell_type": "markdown",
   "metadata": {},
   "source": [
    "## 2. 지도까지 이동\n",
    "\n",
    "### 클릭이 안 됀다! 클릭을 할려면 마우스를 갖다대는 수 밖에 없어!\n",
    "### Drag & Drop 잊지 않겠다!!\n",
    "### click 및 click and hold 기능 사용"
   ]
  },
  {
   "cell_type": "code",
   "execution_count": 107,
   "metadata": {},
   "outputs": [
    {
     "name": "stdout",
     "output_type": "stream",
     "text": [
      "on\n",
      "hello\n",
      "on\n"
     ]
    }
   ],
   "source": [
    "#select = Select(driver.find_element(By.CSS_SELECTOR , '#gnb > div > nav > div > ul > li > gnb_nav03 > h2'))\n",
    "#select.select_by_visible_text(\"yyy\")\n",
    "\n",
    "click_bar(By.CSS_SELECTOR, '#gnb > div > nav > div > ul > li.gnb_nav03 > h2 > a')\n",
    "click_hold_bar(By.CSS_SELECTOR, '#gnb > div > nav > div > ul > li.gnb_nav03 > h2 > a')\n",
    "#enter_bar(By.CSS_SELECTOR, '#gnb > div > nav > div > ul > li.gnb_nav03 > h2 > a')\n",
    "reserv_btn_check = WebDriverWait(driver, 10).until(EC.element_to_be_clickable((By.CSS_SELECTOR, '#gnb > div > nav > div > ul > li.gnb_nav03 > div > div > div > ul:nth-child(1) > li:nth-child(3) > a')))\n",
    "reserv_btn_class = driver.find_element(By.CSS_SELECTOR , '#gnb > div > nav > div > ul > li.gnb_nav03 > h2 > a').get_attribute('class')\n",
    "print(reserv_btn_class)\n",
    "while reserv_btn_class == 'on':\n",
    "    print('hello')\n",
    "    driver.find_element(By.CSS_SELECTOR , '#gnb > div > nav > div > ul > li.gnb_nav03 > div > div > div > ul:nth-child(1) > li:nth-child(3) > a').get_attribute('href')\n",
    "    print(reserv_btn_class)\n",
    "    click_bar(By.CSS_SELECTOR , '#gnb > div > nav > div > ul > li.gnb_nav03 > div > div > div > ul:nth-child(1) > li:nth-child(3) > a')\n",
    "    break"
   ]
  },
  {
   "attachments": {},
   "cell_type": "markdown",
   "metadata": {},
   "source": [
    "### 각 구를 선택해보자"
   ]
  },
  {
   "cell_type": "code",
   "execution_count": 122,
   "metadata": {},
   "outputs": [],
   "source": [
    "sidos = driver.find_element(By.CLASS_NAME, 'sido_arae_box').find_elements(By.CLASS_NAME, 'set_sido_cd_btn')\n",
    "\n",
    "\n",
    "# gugun = driver.find_element(By.CLASS_NAME, 'gugun_arae_box').find_elements(By.CLASS_NAME, 'set_gugun_cd_btn')\n",
    "\n"
   ]
  },
  {
   "attachments": {},
   "cell_type": "markdown",
   "metadata": {},
   "source": [
    "### 서울 선택"
   ]
  },
  {
   "cell_type": "code",
   "execution_count": 123,
   "metadata": {},
   "outputs": [],
   "source": [
    "sidos[0].click()\n",
    "driver.implicitly_wait(2)\n",
    "guguns = driver.find_elements(By.CSS_SELECTOR, '#mCSB_2_container > ul > li')\n"
   ]
  },
  {
   "attachments": {},
   "cell_type": "markdown",
   "metadata": {},
   "source": [
    "### 서울 전체 스타벅스 찾아보기"
   ]
  },
  {
   "cell_type": "code",
   "execution_count": 124,
   "metadata": {},
   "outputs": [],
   "source": [
    "click_bar(By.CSS_SELECTOR, '#mCSB_2_container > ul > li:nth-child(1) > a')"
   ]
  },
  {
   "attachments": {},
   "cell_type": "markdown",
   "metadata": {},
   "source": [
    "### 셀레니움에서 현재 페이지 정보 가져오기\n",
    "### Beautifulsoup을 사용해서 점포명, 위도, 경도, 주소 정보 가져오기"
   ]
  },
  {
   "cell_type": "code",
   "execution_count": 8,
   "metadata": {},
   "outputs": [
    {
     "ename": "NameError",
     "evalue": "name 'sidos' is not defined",
     "output_type": "error",
     "traceback": [
      "\u001b[0;31m---------------------------------------------------------------------------\u001b[0m",
      "\u001b[0;31mNameError\u001b[0m                                 Traceback (most recent call last)",
      "Cell \u001b[0;32mIn[8], line 3\u001b[0m\n\u001b[1;32m      1\u001b[0m \u001b[39mfrom\u001b[39;00m \u001b[39mbs4\u001b[39;00m \u001b[39mimport\u001b[39;00m BeautifulSoup\n\u001b[0;32m----> 3\u001b[0m sidos[\u001b[39m0\u001b[39m]\u001b[39m.\u001b[39mclick()\n\u001b[1;32m      5\u001b[0m html \u001b[39m=\u001b[39m driver\u001b[39m.\u001b[39mpage_source \u001b[39m#\u001b[39;00m\n\u001b[1;32m      7\u001b[0m soup \u001b[39m=\u001b[39m BeautifulSoup(html, \u001b[39m'\u001b[39m\u001b[39mhtml.parser\u001b[39m\u001b[39m'\u001b[39m)\n",
      "\u001b[0;31mNameError\u001b[0m: name 'sidos' is not defined"
     ]
    }
   ],
   "source": [
    "from bs4 import BeautifulSoup\n",
    "\n",
    "sidos[0].click()\n",
    "\n",
    "html = driver.page_source #\n",
    "\n",
    "soup = BeautifulSoup(html, 'html.parser')\n",
    "\n",
    "#name = soup.find('li', {'class': 'quickResultLstCon'})\n",
    "\n",
    "\n",
    "\n",
    "details = soup.find_all('li', {'class': 'quickResultLstCon'})\n",
    "\n",
    "detail = soup.find('li', {'class': 'quickResultLstCon'})\n",
    "\n",
    "detail.find('p').text\n",
    "# detail.find('strong').text\n",
    "\n",
    "for detail in details :\n",
    "    name = detail.find('strong').text\n",
    "    data_lat = detail['data-lat']\n",
    "    data_long = detail['data-long']\n",
    "    location = detail.find('p').text\n",
    "    print(name, data_lat, data_long, location)\n",
    "# name = []\n",
    "# data_lat = []\n",
    "# data_long = []\n",
    "# location = []\n",
    "\n",
    "#data_lat = details['data-lat']\n",
    "# #details['data-lat']\n",
    "\n",
    "\n",
    "# data_lat.append([])\n",
    "# sidos[0].click()\n",
    "# driver.implicitly_wait(2)\n",
    "# #guguns = driver.find_elements(By.CSS_SELECTOR, '#mCSB_2_container > ul > li')\n",
    "# for detail in details:\n",
    "#     data_lat.append([])\n",
    "#     data_long.append([])\n",
    "#     location.append([])\n",
    "#     name = detail.find('strong').text\n",
    "#     data_lat = detail['data-lat']\n",
    "#     data_long = detail['data-long']\n",
    "#     location = detail.find('strong')"
   ]
  },
  {
   "attachments": {},
   "cell_type": "markdown",
   "metadata": {},
   "source": [
    "### 이디야 커피도 해보자!"
   ]
  },
  {
   "cell_type": "code",
   "execution_count": 4,
   "metadata": {},
   "outputs": [
    {
     "ename": "NoSuchWindowException",
     "evalue": "Message: no such window: target window already closed\nfrom unknown error: web view not found\n  (Session info: chrome=109.0.5414.74)\nStacktrace:\n#0 0x5599d783d303 <unknown>\n#1 0x5599d7611d37 <unknown>\n#2 0x5599d75ec975 <unknown>\n#3 0x5599d76735df <unknown>\n#4 0x5599d7686253 <unknown>\n#5 0x5599d766e753 <unknown>\n#6 0x5599d7641a14 <unknown>\n#7 0x5599d7642b7e <unknown>\n#8 0x5599d788c32e <unknown>\n#9 0x5599d788fc0e <unknown>\n#10 0x5599d7872610 <unknown>\n#11 0x5599d7890c23 <unknown>\n#12 0x5599d7864545 <unknown>\n#13 0x5599d78b16a8 <unknown>\n#14 0x5599d78b1836 <unknown>\n#15 0x5599d78ccd13 <unknown>\n#16 0x7f35fd203609 start_thread\n",
     "output_type": "error",
     "traceback": [
      "\u001b[0;31m---------------------------------------------------------------------------\u001b[0m",
      "\u001b[0;31mNoSuchWindowException\u001b[0m                     Traceback (most recent call last)",
      "Cell \u001b[0;32mIn[4], line 8\u001b[0m\n\u001b[1;32m      5\u001b[0m driver2\u001b[39m.\u001b[39mget(\u001b[39m'\u001b[39m\u001b[39mhttps://www.ediya.com/\u001b[39m\u001b[39m'\u001b[39m)\n\u001b[1;32m      6\u001b[0m driver2\u001b[39m.\u001b[39mfind_element(By\u001b[39m.\u001b[39mCSS_SELECTOR,\u001b[39m'\u001b[39m\u001b[39mbody > header > div > div > div.gnb_wrap > div.top_util > ul.top_members > li.store > a\u001b[39m\u001b[39m'\u001b[39m)\u001b[39m.\u001b[39mclick()\n\u001b[0;32m----> 8\u001b[0m html \u001b[39m=\u001b[39m driver\u001b[39m.\u001b[39;49mpage_source \u001b[39m#\u001b[39;00m\n\u001b[1;32m     10\u001b[0m soup \u001b[39m=\u001b[39m BeautifulSoup(html, \u001b[39m'\u001b[39m\u001b[39mhtml.parser\u001b[39m\u001b[39m'\u001b[39m)\n\u001b[1;32m     12\u001b[0m \u001b[39m#name = soup.find('li', {'class': 'quickResultLstCon'})\u001b[39;00m\n",
      "File \u001b[0;32m~/venv/data_venv/lib/python3.8/site-packages/selenium/webdriver/remote/webdriver.py:550\u001b[0m, in \u001b[0;36mWebDriver.page_source\u001b[0;34m(self)\u001b[0m\n\u001b[1;32m    540\u001b[0m \u001b[39m@property\u001b[39m\n\u001b[1;32m    541\u001b[0m \u001b[39mdef\u001b[39;00m \u001b[39mpage_source\u001b[39m(\u001b[39mself\u001b[39m) \u001b[39m-\u001b[39m\u001b[39m>\u001b[39m \u001b[39mstr\u001b[39m:\n\u001b[1;32m    542\u001b[0m \u001b[39m    \u001b[39m\u001b[39m\"\"\"\u001b[39;00m\n\u001b[1;32m    543\u001b[0m \u001b[39m    Gets the source of the current page.\u001b[39;00m\n\u001b[1;32m    544\u001b[0m \n\u001b[0;32m   (...)\u001b[0m\n\u001b[1;32m    548\u001b[0m \u001b[39m            driver.page_source\u001b[39;00m\n\u001b[1;32m    549\u001b[0m \u001b[39m    \"\"\"\u001b[39;00m\n\u001b[0;32m--> 550\u001b[0m     \u001b[39mreturn\u001b[39;00m \u001b[39mself\u001b[39;49m\u001b[39m.\u001b[39;49mexecute(Command\u001b[39m.\u001b[39;49mGET_PAGE_SOURCE)[\u001b[39m\"\u001b[39m\u001b[39mvalue\u001b[39m\u001b[39m\"\u001b[39m]\n",
      "File \u001b[0;32m~/venv/data_venv/lib/python3.8/site-packages/selenium/webdriver/remote/webdriver.py:444\u001b[0m, in \u001b[0;36mWebDriver.execute\u001b[0;34m(self, driver_command, params)\u001b[0m\n\u001b[1;32m    442\u001b[0m response \u001b[39m=\u001b[39m \u001b[39mself\u001b[39m\u001b[39m.\u001b[39mcommand_executor\u001b[39m.\u001b[39mexecute(driver_command, params)\n\u001b[1;32m    443\u001b[0m \u001b[39mif\u001b[39;00m response:\n\u001b[0;32m--> 444\u001b[0m     \u001b[39mself\u001b[39;49m\u001b[39m.\u001b[39;49merror_handler\u001b[39m.\u001b[39;49mcheck_response(response)\n\u001b[1;32m    445\u001b[0m     response[\u001b[39m\"\u001b[39m\u001b[39mvalue\u001b[39m\u001b[39m\"\u001b[39m] \u001b[39m=\u001b[39m \u001b[39mself\u001b[39m\u001b[39m.\u001b[39m_unwrap_value(response\u001b[39m.\u001b[39mget(\u001b[39m\"\u001b[39m\u001b[39mvalue\u001b[39m\u001b[39m\"\u001b[39m, \u001b[39mNone\u001b[39;00m))\n\u001b[1;32m    446\u001b[0m     \u001b[39mreturn\u001b[39;00m response\n",
      "File \u001b[0;32m~/venv/data_venv/lib/python3.8/site-packages/selenium/webdriver/remote/errorhandler.py:249\u001b[0m, in \u001b[0;36mErrorHandler.check_response\u001b[0;34m(self, response)\u001b[0m\n\u001b[1;32m    247\u001b[0m         alert_text \u001b[39m=\u001b[39m value[\u001b[39m\"\u001b[39m\u001b[39malert\u001b[39m\u001b[39m\"\u001b[39m]\u001b[39m.\u001b[39mget(\u001b[39m\"\u001b[39m\u001b[39mtext\u001b[39m\u001b[39m\"\u001b[39m)\n\u001b[1;32m    248\u001b[0m     \u001b[39mraise\u001b[39;00m exception_class(message, screen, stacktrace, alert_text)  \u001b[39m# type: ignore[call-arg]  # mypy is not smart enough here\u001b[39;00m\n\u001b[0;32m--> 249\u001b[0m \u001b[39mraise\u001b[39;00m exception_class(message, screen, stacktrace)\n",
      "\u001b[0;31mNoSuchWindowException\u001b[0m: Message: no such window: target window already closed\nfrom unknown error: web view not found\n  (Session info: chrome=109.0.5414.74)\nStacktrace:\n#0 0x5599d783d303 <unknown>\n#1 0x5599d7611d37 <unknown>\n#2 0x5599d75ec975 <unknown>\n#3 0x5599d76735df <unknown>\n#4 0x5599d7686253 <unknown>\n#5 0x5599d766e753 <unknown>\n#6 0x5599d7641a14 <unknown>\n#7 0x5599d7642b7e <unknown>\n#8 0x5599d788c32e <unknown>\n#9 0x5599d788fc0e <unknown>\n#10 0x5599d7872610 <unknown>\n#11 0x5599d7890c23 <unknown>\n#12 0x5599d7864545 <unknown>\n#13 0x5599d78b16a8 <unknown>\n#14 0x5599d78b1836 <unknown>\n#15 0x5599d78ccd13 <unknown>\n#16 0x7f35fd203609 start_thread\n"
     ]
    }
   ],
   "source": [
    "chrome_options = webdriver.ChromeOptions()\n",
    "chrome_options.add_argument(\"--start-maximized\") # 시작시 윈도우 창 최대화\n",
    "driver2 = webdriver.Chrome(service=Service('../driver/chromedriver'), options=chrome_options)\n",
    "\n",
    "driver2.get('https://www.ediya.com/')\n",
    "driver2.find_element(By.CSS_SELECTOR,'body > header > div > div > div.gnb_wrap > div.top_util > ul.top_members > li.store > a').click()\n",
    "\n",
    "html = driver.page_source #\n",
    "\n",
    "soup = BeautifulSoup(html, 'html.parser')\n",
    "\n",
    "#name = soup.find('li', {'class': 'quickResultLstCon'})"
   ]
  },
  {
   "cell_type": "markdown",
   "metadata": {},
   "source": [
    "### 검색 구 리스트 등록!"
   ]
  },
  {
   "cell_type": "code",
   "execution_count": 5,
   "metadata": {},
   "outputs": [],
   "source": [
    "store_str = ['강남구', '강동구', '강북구', '서울 강서구', '관악구', '광진구', '구로구', '금천구', '노원구', '도봉구', '동대문구', '동작구', '마포구', '서대문구', '서초구', '성동구', '성북고', '송파구', '양천구', '영등포구', '용산구', '은평구' '종로구', '서울 중구', '중립구']"
   ]
  },
  {
   "cell_type": "code",
   "execution_count": 6,
   "metadata": {},
   "outputs": [],
   "source": [
    "search = driver2.find_element(By.CSS_SELECTOR, '#keyword')\n",
    "driver2.find_element(By.CSS_SELECTOR, '#contentWrap > div.contents > div > div.store_search_pop > ul > li:nth-child(2) > a').click()\n",
    "search.click()\n",
    "search.clear()\n",
    "\n",
    "search.send_keys(store_str[0])\n",
    "\n",
    "search.send_keys(Keys.ENTER)"
   ]
  },
  {
   "cell_type": "code",
   "execution_count": 12,
   "metadata": {},
   "outputs": [
    {
     "data": {
      "text/plain": [
       "[<div class=\"result_list\">\n",
       " <ul id=\"placesList\" style=\"\"><li class=\"item\"><a href=\"#c\" onclick=\"panLatTo('0','0','0');fnMove();\"><div class=\"store_thum\"><img src=\"../images/customer/store_thum.gif\"/></div><dl><dt>강남YMCA점</dt> <dd>서울 강남구 논현동</dd></dl></a></li><li class=\"item\"><a href=\"#c\" onclick=\"panLatTo('127.0401601992311','37.51654171724045','1');fnMove();\"><div class=\"store_thum\"><img src=\"../images/customer/store_thum.gif\"/></div><dl><dt>강남구청역아이티웨딩점</dt> <dd>서울 강남구 학동로 338 (논현동, 강남파라곤)</dd></dl></a></li><li class=\"item\"><a href=\"#c\" onclick=\"panLatTo('127.02810578707652','37.51408005446769','2');fnMove();\"><div class=\"store_thum\"><img src=\"../images/customer/store_thum.gif\"/></div><dl><dt>강남논현학동점</dt> <dd>서울 강남구 논현로131길 28 (논현동)</dd></dl></a></li><li class=\"item\"><a href=\"#c\" onclick=\"panLatTo('127.05242928262568','37.50133876179308','3');fnMove();\"><div class=\"store_thum\"><img src=\"../images/customer/store_thum.gif\"/></div><dl><dt>강남대치점</dt> <dd>서울 강남구 역삼로 415 (대치동, 성진빌딩)</dd></dl></a></li><li class=\"item\"><a href=\"#c\" onclick=\"panAddTo('서울 강남구 도산대로37길 20 (신사동)','4');fnMove();\"><div class=\"store_thum\"><img src=\"../images/customer/store_thum.gif\"/></div><dl><dt>강남도산점</dt> <dd>서울 강남구 도산대로37길 20 (신사동)</dd></dl></a></li><li class=\"item\"><a href=\"#c\" onclick=\"panLatTo('127.1007917976449','37.46684383424938','5');fnMove();\"><div class=\"store_thum\"><img src=\"../images/customer/store_thum.gif\"/></div><dl><dt>강남세곡점</dt> <dd>서울 강남구 헌릉로569길 9 (세곡동, 강남지웰파인즈)</dd></dl></a></li><li class=\"item\"><a href=\"#c\" onclick=\"panLatTo('127.107863694133','37.4735487656314','6');fnMove();\"><div class=\"store_thum\"><img src=\"../images/customer/store_thum.gif\"/></div><dl><dt>강남율현점</dt> <dd>서울 강남구 밤고개로21길 8 (율현동, 세곡프라자)</dd></dl></a></li><li class=\"item\"><a href=\"#c\" onclick=\"panLatTo('127.1031720971561','37.473606114795814','7');fnMove();\"><div class=\"store_thum\"><img src=\"../images/customer/store_thum.gif\"/></div><dl><dt>강남자곡점</dt> <dd>서울 강남구 자곡로 180 (자곡동, 강남유탑유블레스)</dd></dl></a></li><li class=\"item\"><a href=\"#c\" onclick=\"panLatTo('127.06742226515867','37.488604436046536','8');fnMove();\"><div class=\"store_thum\"><img src=\"../images/customer/store_thum.gif\"/></div><dl><dt>개포동역점</dt> <dd>서울 강남구 개포로82길 11 (개포동, 삼우빌딩)</dd></dl></a></li><li class=\"item\"><a href=\"#c\" onclick=\"panAddTo('서울 강남구 언주로 711 (논현동)','9');fnMove();\"><div class=\"store_thum\"><img src=\"../images/customer/store_thum.gif\"/></div><dl><dt>건설회관점</dt> <dd>서울 강남구 언주로 711 (논현동)</dd></dl></a></li><li class=\"item\"><a href=\"#c\" onclick=\"panLatTo('127.07764131137398','37.49418891219431','10');fnMove();\"><div class=\"store_thum\"><img src=\"../images/customer/store_thum.gif\"/></div><dl><dt>대청역점</dt> <dd>서울 강남구 개포로109길 34 (개포동, 대청프라자)</dd></dl></a></li><li class=\"item\"><a href=\"#c\" onclick=\"panLatTo('127.061617564506','37.4940924880388','11');fnMove();\"><div class=\"store_thum\"><img src=\"../images/customer/store_thum.gif\"/></div><dl><dt>대치역점</dt> <dd>서울 강남구 남부순환로 2937 (대치동, 까치빌딩)</dd></dl></a></li><li class=\"item\"><a href=\"#c\" onclick=\"panLatTo('127.04304591726503','37.482353824702095','12');fnMove();\"><div class=\"store_thum\"><img src=\"../images/customer/store_thum.gif\"/></div><dl><dt>도곡2동점</dt> <dd>서울 강남구 논현로 142 (도곡동, 동현빌딩)</dd></dl></a></li><li class=\"item\"><a href=\"#c\" onclick=\"panAddTo('서울 강남구 논현동 ','13');fnMove();\"><div class=\"store_thum\"><img src=\"../images/customer/store_thum.gif\"/></div><dl><dt>도산사거리점</dt> <dd>서울 강남구 논현동 </dd></dl></a></li><li class=\"item\"><a href=\"#c\" onclick=\"panLatTo('127.06310437319587','37.50043704079942','14');fnMove();\"><div class=\"store_thum\"><img src=\"../images/customer/store_thum.gif\"/></div><dl><dt>삼성대치점</dt> <dd>서울 강남구 삼성로64길 32 (대치동, 주성빌딩)</dd></dl></a></li><li class=\"item\"><a href=\"#c\" onclick=\"panAddTo('서울 강남구 테헤란로88길 10 (대치동)','15');fnMove();\"><div class=\"store_thum\"><img src=\"../images/customer/store_thum.gif\"/></div><dl><dt>삼성동점</dt> <dd>서울 강남구 테헤란로88길 10 (대치동)</dd></dl></a></li><li class=\"item\"><a href=\"#c\" onclick=\"panLatTo('127.053299510545','37.5138886492475','16');fnMove();\"><div class=\"store_thum\"><img src=\"../images/customer/store_thum.gif\"/></div><dl><dt>삼성중앙역점</dt> <dd>서울 강남구 삼성로 608 (삼성동, 우창빌딩)</dd></dl></a></li><li class=\"item\"><a href=\"#c\" onclick=\"panAddTo('서울 강남구 테헤란로107길 11 (삼성동)','17');fnMove();\"><div class=\"store_thum\"><img src=\"../images/customer/store_thum.gif\"/></div><dl><dt>삼성한전점</dt> <dd>서울 강남구 테헤란로107길 11 (삼성동)</dd></dl></a></li><li class=\"item\"><a href=\"#c\" onclick=\"panLatTo('127.04806966822704','37.50585465375997','18');fnMove();\"><div class=\"store_thum\"><img src=\"../images/customer/store_thum.gif\"/></div><dl><dt>선릉사거리점</dt> <dd>서울 강남구 선릉로 519 (역삼동, 삼능빌딩)</dd></dl></a></li><li class=\"item\"><a href=\"#c\" onclick=\"panLatTo('127.048192060882','37.503774633134','19');fnMove();\"><div class=\"store_thum\"><img src=\"../images/customer/store_thum.gif\"/></div><dl><dt>선릉역점</dt> <dd>서울 강남구 테헤란로 332 (역삼동, HJ타워)</dd></dl></a></li><li class=\"item\"><a href=\"#c\" onclick=\"panLatTo('0','0','20');fnMove();\"><div class=\"store_thum\"><img src=\"../images/customer/store_thum.gif\"/></div><dl><dt>선정릉역점</dt> <dd>서울 강남구 봉은사로 326 (역삼동)</dd></dl></a></li><li class=\"item\"><a href=\"#c\" onclick=\"panLatTo('127.10304411368496','37.487429952799744','21');fnMove();\"><div class=\"store_thum\"><img src=\"../images/customer/store_thum.gif\"/></div><dl><dt>수서역점</dt> <dd>서울 강남구 광평로 280 (수서동, 로즈데일오피스텔)</dd></dl></a></li><li class=\"item\"><a href=\"#c\" onclick=\"panLatTo('127.02145819084597','37.517782772275645','22');fnMove();\"><div class=\"store_thum\"><img src=\"../images/customer/store_thum.gif\"/></div><dl><dt>신사역점</dt> <dd>서울 강남구 압구정로2길 62 (신사동)</dd></dl></a></li><li class=\"item\"><a href=\"#c\" onclick=\"panLatTo('127.02186508143391','37.51665644330877','23');fnMove();\"><div class=\"store_thum\"><img src=\"../images/customer/store_thum.gif\"/></div><dl><dt>신사점</dt> <dd>서울 강남구 도산대로 118 (논현동)</dd></dl></a></li><li class=\"item\"><a href=\"#c\" onclick=\"panAddTo('서울 강남구 선릉로161길 20 (신사동)','24');fnMove();\"><div class=\"store_thum\"><img src=\"../images/customer/store_thum.gif\"/></div><dl><dt>압구정로데오역점</dt> <dd>서울 강남구 선릉로161길 20 (신사동)</dd></dl></a></li><li class=\"item\"><a href=\"#c\" onclick=\"panAddTo('서울 강남구 신사동','25');fnMove();\"><div class=\"store_thum\"><img src=\"../images/customer/store_thum.gif\"/></div><dl><dt>압구정점</dt> <dd>서울 강남구 신사동</dd></dl></a></li><li class=\"item\"><a href=\"#c\" onclick=\"panAddTo('서울 강남구 논현로63길 16 (역삼동, 역삼종합시장 더블루)','26');fnMove();\"><div class=\"store_thum\"><img src=\"../images/customer/store_thum.gif\"/></div><dl><dt>역삼더블루점</dt> <dd>서울 강남구 논현로63길 16 (역삼동, 역삼종합시장 더블루)</dd></dl></a></li><li class=\"item\"><a href=\"#c\" onclick=\"panLatTo('127.0439944465106','37.504405623324196','27');fnMove();\"><div class=\"store_thum\"><img src=\"../images/customer/store_thum.gif\"/></div><dl><dt>역삼상록점</dt> <dd>서울 강남구 테헤란로43길 18 (역삼동, SC빌딩)</dd></dl></a></li><li class=\"item\"><a href=\"#c\" onclick=\"panLatTo('127.03523956508853','37.50178663316214','28');fnMove();\"><div class=\"store_thum\"><img src=\"../images/customer/store_thum.gif\"/></div><dl><dt>역삼역점</dt> <dd>서울 강남구 테헤란로25길 17 (역삼동)</dd></dl></a></li><li class=\"item\"><a href=\"#c\" onclick=\"panLatTo('127.04811298239548','37.49844836915844','29');fnMove();\"><div class=\"store_thum\"><img src=\"../images/customer/store_thum.gif\"/></div><dl><dt>역삼월드점</dt> <dd>서울 강남구 역삼로52길 14 (역삼동, 도곡프라자)</dd></dl></a></li><li class=\"item\"><a href=\"#c\" onclick=\"panLatTo('0','0','30');fnMove();\"><div class=\"store_thum\"><img src=\"../images/customer/store_thum.gif\"/></div><dl><dt>역삼점</dt> <dd>서울 강남구 논현로72길 13 (역삼동)</dd></dl></a></li><li class=\"item\"><a href=\"#c\" onclick=\"panLatTo('127.04292899982501','37.5003154494517','31');fnMove();\"><div class=\"store_thum\"><img src=\"../images/customer/store_thum.gif\"/></div><dl><dt>역삼중앙점</dt> <dd>서울 강남구 언주로81길 8 (역삼동)</dd></dl></a></li><li class=\"item\"><a href=\"#c\" onclick=\"panLatTo('0','0','32');fnMove();\"><div class=\"store_thum\"><img src=\"../images/customer/store_thum.gif\"/></div><dl><dt>역삼초교점</dt> <dd>서울 강남구 강남대로 314 (역삼동)</dd></dl></a></li><li class=\"item\"><a href=\"#c\" onclick=\"panLatTo('0','0','33');fnMove();\"><div class=\"store_thum\"><img src=\"../images/customer/store_thum.gif\"/></div><dl><dt>역삼충현점</dt> <dd>서울 강남구 논현로98길 7 (역삼동)</dd></dl></a></li><li class=\"item\"><a href=\"#c\" onclick=\"panAddTo('서울 강남구 테헤란로4길 46 (역삼동, 쌍용플래티넘밸류)','34');fnMove();\"><div class=\"store_thum\"><img src=\"../images/customer/store_thum.gif\"/></div><dl><dt>역삼플래티넘점</dt> <dd>서울 강남구 테헤란로4길 46 (역삼동, 쌍용플래티넘밸류)</dd></dl></a></li><li class=\"item\"><a href=\"#c\" onclick=\"panLatTo('0','0','35');fnMove();\"><div class=\"store_thum\"><img src=\"../images/customer/store_thum.gif\"/></div><dl><dt>을지병원사거리점</dt> <dd>서울 강남구 도산대로30길 7 (논현동)</dd></dl></a></li><li class=\"item\"><a href=\"#c\" onclick=\"panLatTo('127.032981540064','37.51047297481296','36');fnMove();\"><div class=\"store_thum\"><img src=\"../images/customer/store_thum.gif\"/></div><dl><dt>이디야커피랩</dt> <dd>서울 강남구 논현로 636 (논현동, 이디야빌딩)</dd></dl></a></li><li class=\"item\"><a href=\"#c\" onclick=\"panLatTo('127.08160067456867','37.49040201406986','37');fnMove();\"><div class=\"store_thum\"><img src=\"../images/customer/store_thum.gif\"/></div><dl><dt>일원동점</dt> <dd>서울 강남구 양재대로27길 20 (일원동)</dd></dl></a></li><li class=\"item\"><a href=\"#c\" onclick=\"panLatTo('127.05035288418118','37.524855870334314','38');fnMove();\"><div class=\"store_thum\"><img src=\"../images/customer/store_thum.gif\"/></div><dl><dt>청담사거리점</dt> <dd>서울 강남구 도산대로 521 (청담동)</dd></dl></a></li><li class=\"item\"><a href=\"#c\" onclick=\"panLatTo('127.049146860404','37.5200643058897','39');fnMove();\"><div class=\"store_thum\"><img src=\"../images/customer/store_thum.gif\"/></div><dl><dt>청담역점</dt> <dd>서울 강남구 삼성로 721 (청담동, 룩희 819)</dd></dl></a></li><li class=\"item\"><a href=\"#c\" onclick=\"panAddTo('서울 강남구 개포로 218 (개포동)','40');fnMove();\"><div class=\"store_thum\"><img src=\"../images/customer/store_thum.gif\"/></div><dl><dt>포이사거리점</dt> <dd>서울 강남구 개포로 218 (개포동)</dd></dl></a></li><li class=\"item\"><a href=\"#c\" onclick=\"panLatTo('127.03312378880225','37.51499417378034','41');fnMove();\"><div class=\"store_thum\"><img src=\"../images/customer/store_thum.gif\"/></div><dl><dt>학동역점</dt> <dd>서울 강남구 학동로 219 (논현동, 국제빌딩)</dd></dl></a></li><li class=\"item\"><a href=\"#c\" onclick=\"panLatTo('127.033652198273','37.5131174134101','42');fnMove();\"><div class=\"store_thum\"><img src=\"../images/customer/store_thum.gif\"/></div><dl><dt>학동제마점</dt> <dd>서울 강남구 학동로34길 22 (논현동)</dd></dl></a></li><li class=\"item\"><a href=\"#c\" onclick=\"panLatTo('127.056118735013','37.4979490135961','43');fnMove();\"><div class=\"store_thum\"><img src=\"../images/customer/store_thum.gif\"/></div><dl><dt>한티역점</dt> <dd>서울 강남구 도곡로69길 8 (대치동)</dd></dl></a></li></ul>\n",
       " </div>]"
      ]
     },
     "execution_count": 12,
     "metadata": {},
     "output_type": "execute_result"
    }
   ],
   "source": [
    "import re\n",
    "\n",
    "html2 = driver2.page_source #\n",
    "\n",
    "soup2 = BeautifulSoup(html2, 'html.parser')\n",
    "\n",
    "#name = soup.find('li', {'class': 'quickResultLstCon'})\n",
    "\n",
    "\n",
    "\n",
    "details2 = soup2.find_all('div', {'class': 'result_list'})\n",
    "details2\n",
    "#details2\n",
    "# detail2 = soup2.find('li', {'class': 'quickResultLstCon'})\n",
    "\n",
    "# detail.find('p').text\n",
    "# # detail.find('strong').text\n",
    "#len(details2)\n",
    "\n",
    "# for detail2 in details2 :\n",
    "#     name2 = detail2.find('dt').text\n",
    "#     data_lat2 = detail2.find('a')\n",
    "#     location2 = detail2.find('dd').text\n",
    "#     print(name2, data_lat2,location2)"
   ]
  },
  {
   "cell_type": "code",
   "execution_count": 160,
   "metadata": {},
   "outputs": [
    {
     "ename": "NoSuchElementException",
     "evalue": "Message: no such element: Unable to locate element: {\"method\":\"xpath\",\"selector\":\"/html/body/div/div/div/iframe\"}\n  (Session info: chrome=109.0.5414.74)\nStacktrace:\n#0 0x55dcd5bc4303 <unknown>\n#1 0x55dcd5998d37 <unknown>\n#2 0x55dcd59d55b2 <unknown>\n#3 0x55dcd59d56c1 <unknown>\n#4 0x55dcd5a0fb34 <unknown>\n#5 0x55dcd59f59ad <unknown>\n#6 0x55dcd5a0d88c <unknown>\n#7 0x55dcd59f5753 <unknown>\n#8 0x55dcd59c8a14 <unknown>\n#9 0x55dcd59c9b7e <unknown>\n#10 0x55dcd5c1332e <unknown>\n#11 0x55dcd5c16c0e <unknown>\n#12 0x55dcd5bf9610 <unknown>\n#13 0x55dcd5c17c23 <unknown>\n#14 0x55dcd5beb545 <unknown>\n#15 0x55dcd5c386a8 <unknown>\n#16 0x55dcd5c38836 <unknown>\n#17 0x55dcd5c53d13 <unknown>\n#18 0x7f3ab369c609 start_thread\n",
     "output_type": "error",
     "traceback": [
      "\u001b[0;31m---------------------------------------------------------------------------\u001b[0m",
      "\u001b[0;31mNoSuchElementException\u001b[0m                    Traceback (most recent call last)",
      "Cell \u001b[0;32mIn[160], line 1\u001b[0m\n\u001b[0;32m----> 1\u001b[0m iframe \u001b[39m=\u001b[39m driver\u001b[39m.\u001b[39;49mfind_element(By\u001b[39m.\u001b[39;49mXPATH, \u001b[39m\"\u001b[39;49m\u001b[39m/html/body/div/div/div/iframe\u001b[39;49m\u001b[39m\"\u001b[39;49m)\n\u001b[1;32m      2\u001b[0m driver\u001b[39m.\u001b[39mswitch_to\u001b[39m.\u001b[39mframe(iframe)\n\u001b[1;32m      4\u001b[0m gugun[\u001b[39m0\u001b[39m]\u001b[39m.\u001b[39mclick()\n",
      "File \u001b[0;32m~/venv/data_venv/lib/python3.8/site-packages/selenium/webdriver/remote/webdriver.py:861\u001b[0m, in \u001b[0;36mWebDriver.find_element\u001b[0;34m(self, by, value)\u001b[0m\n\u001b[1;32m    858\u001b[0m     by \u001b[39m=\u001b[39m By\u001b[39m.\u001b[39mCSS_SELECTOR\n\u001b[1;32m    859\u001b[0m     value \u001b[39m=\u001b[39m \u001b[39m'\u001b[39m\u001b[39m[name=\u001b[39m\u001b[39m\"\u001b[39m\u001b[39m%s\u001b[39;00m\u001b[39m\"\u001b[39m\u001b[39m]\u001b[39m\u001b[39m'\u001b[39m \u001b[39m%\u001b[39m value\n\u001b[0;32m--> 861\u001b[0m \u001b[39mreturn\u001b[39;00m \u001b[39mself\u001b[39;49m\u001b[39m.\u001b[39;49mexecute(Command\u001b[39m.\u001b[39;49mFIND_ELEMENT, {\u001b[39m\"\u001b[39;49m\u001b[39musing\u001b[39;49m\u001b[39m\"\u001b[39;49m: by, \u001b[39m\"\u001b[39;49m\u001b[39mvalue\u001b[39;49m\u001b[39m\"\u001b[39;49m: value})[\u001b[39m\"\u001b[39m\u001b[39mvalue\u001b[39m\u001b[39m\"\u001b[39m]\n",
      "File \u001b[0;32m~/venv/data_venv/lib/python3.8/site-packages/selenium/webdriver/remote/webdriver.py:444\u001b[0m, in \u001b[0;36mWebDriver.execute\u001b[0;34m(self, driver_command, params)\u001b[0m\n\u001b[1;32m    442\u001b[0m response \u001b[39m=\u001b[39m \u001b[39mself\u001b[39m\u001b[39m.\u001b[39mcommand_executor\u001b[39m.\u001b[39mexecute(driver_command, params)\n\u001b[1;32m    443\u001b[0m \u001b[39mif\u001b[39;00m response:\n\u001b[0;32m--> 444\u001b[0m     \u001b[39mself\u001b[39;49m\u001b[39m.\u001b[39;49merror_handler\u001b[39m.\u001b[39;49mcheck_response(response)\n\u001b[1;32m    445\u001b[0m     response[\u001b[39m\"\u001b[39m\u001b[39mvalue\u001b[39m\u001b[39m\"\u001b[39m] \u001b[39m=\u001b[39m \u001b[39mself\u001b[39m\u001b[39m.\u001b[39m_unwrap_value(response\u001b[39m.\u001b[39mget(\u001b[39m\"\u001b[39m\u001b[39mvalue\u001b[39m\u001b[39m\"\u001b[39m, \u001b[39mNone\u001b[39;00m))\n\u001b[1;32m    446\u001b[0m     \u001b[39mreturn\u001b[39;00m response\n",
      "File \u001b[0;32m~/venv/data_venv/lib/python3.8/site-packages/selenium/webdriver/remote/errorhandler.py:249\u001b[0m, in \u001b[0;36mErrorHandler.check_response\u001b[0;34m(self, response)\u001b[0m\n\u001b[1;32m    247\u001b[0m         alert_text \u001b[39m=\u001b[39m value[\u001b[39m\"\u001b[39m\u001b[39malert\u001b[39m\u001b[39m\"\u001b[39m]\u001b[39m.\u001b[39mget(\u001b[39m\"\u001b[39m\u001b[39mtext\u001b[39m\u001b[39m\"\u001b[39m)\n\u001b[1;32m    248\u001b[0m     \u001b[39mraise\u001b[39;00m exception_class(message, screen, stacktrace, alert_text)  \u001b[39m# type: ignore[call-arg]  # mypy is not smart enough here\u001b[39;00m\n\u001b[0;32m--> 249\u001b[0m \u001b[39mraise\u001b[39;00m exception_class(message, screen, stacktrace)\n",
      "\u001b[0;31mNoSuchElementException\u001b[0m: Message: no such element: Unable to locate element: {\"method\":\"xpath\",\"selector\":\"/html/body/div/div/div/iframe\"}\n  (Session info: chrome=109.0.5414.74)\nStacktrace:\n#0 0x55dcd5bc4303 <unknown>\n#1 0x55dcd5998d37 <unknown>\n#2 0x55dcd59d55b2 <unknown>\n#3 0x55dcd59d56c1 <unknown>\n#4 0x55dcd5a0fb34 <unknown>\n#5 0x55dcd59f59ad <unknown>\n#6 0x55dcd5a0d88c <unknown>\n#7 0x55dcd59f5753 <unknown>\n#8 0x55dcd59c8a14 <unknown>\n#9 0x55dcd59c9b7e <unknown>\n#10 0x55dcd5c1332e <unknown>\n#11 0x55dcd5c16c0e <unknown>\n#12 0x55dcd5bf9610 <unknown>\n#13 0x55dcd5c17c23 <unknown>\n#14 0x55dcd5beb545 <unknown>\n#15 0x55dcd5c386a8 <unknown>\n#16 0x55dcd5c38836 <unknown>\n#17 0x55dcd5c53d13 <unknown>\n#18 0x7f3ab369c609 start_thread\n"
     ]
    }
   ],
   "source": [
    "# iframe = driver.find_element(By.XPATH, \"/html/body/div/div/div/iframe\")\n",
    "# driver.switch_to.frame(iframe)\n",
    "f = open('jquery-3.2.1.min.js' 'r')\n",
    "driver.execute_script(f.read())\n",
    "f.close();\n",
    "\n",
    "\n",
    "\n",
    "gugun[0].click()"
   ]
  },
  {
   "cell_type": "code",
   "execution_count": 168,
   "metadata": {},
   "outputs": [],
   "source": [
    "sido[0].click()"
   ]
  }
 ],
 "metadata": {
  "kernelspec": {
   "display_name": "data_venv",
   "language": "python",
   "name": "python3"
  },
  "language_info": {
   "codemirror_mode": {
    "name": "ipython",
    "version": 3
   },
   "file_extension": ".py",
   "mimetype": "text/x-python",
   "name": "python",
   "nbconvert_exporter": "python",
   "pygments_lexer": "ipython3",
   "version": "3.8.10 (default, Nov 14 2022, 12:59:47) \n[GCC 9.4.0]"
  },
  "orig_nbformat": 4,
  "vscode": {
   "interpreter": {
    "hash": "6288ecbda94c44731bd517e8e3a9546afeba19dde6c58790bc825d76b6fd82c6"
   }
  }
 },
 "nbformat": 4,
 "nbformat_minor": 2
}
