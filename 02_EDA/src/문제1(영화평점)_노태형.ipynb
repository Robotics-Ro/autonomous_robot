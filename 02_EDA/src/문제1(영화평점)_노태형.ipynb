{
 "cells": [
  {
   "cell_type": "code",
   "execution_count": 14,
   "id": "b444c60b",
   "metadata": {},
   "outputs": [
    {
     "data": {
      "text/plain": [
       "[['탑건: 매버릭', '9.76'],\n",
       " ['클라우스', '9.67'],\n",
       " ['인생은 뷰티풀: 비타돌체', '9.62'],\n",
       " ['밥정', '9.61'],\n",
       " ['그린 북', '9.60'],\n",
       " ['할머니의 먼 집', '9.59'],\n",
       " ['가버나움', '9.59'],\n",
       " ['베일리 어게인', '9.54'],\n",
       " ['더 퍼스트 슬램덩크', '9.53'],\n",
       " ['원더', '9.53'],\n",
       " ['아일라', '9.52'],\n",
       " ['디지몬 어드벤처 라스트 에볼루션 : 인연', '9.51'],\n",
       " ['극장판 바이올렛 에버가든', '9.50'],\n",
       " ['아바타 리마스터링', '9.49'],\n",
       " ['당갈', '9.49'],\n",
       " ['포드 V 페라리', '9.47'],\n",
       " ['먼 훗날 우리', '9.47'],\n",
       " ['쇼생크 탈출', '9.46'],\n",
       " ['주전장', '9.46'],\n",
       " ['터미네이터 2:오리지널', '9.45'],\n",
       " ['덕구', '9.45'],\n",
       " ['클래식', '9.44'],\n",
       " ['나 홀로 집에', '9.44'],\n",
       " ['라이언 일병 구하기', '9.43'],\n",
       " ['그대, 고맙소 : 김호중 생애 첫 팬미팅 무비', '9.43'],\n",
       " ['월-E', '9.42'],\n",
       " ['빽 투 더 퓨쳐', '9.42'],\n",
       " ['사운드 오브 뮤직', '9.42'],\n",
       " ['장민호 드라마 최종회', '9.42'],\n",
       " ['보헤미안 랩소디', '9.42'],\n",
       " ['포레스트 검프', '9.42'],\n",
       " ['타이타닉: 25주년', '9.41'],\n",
       " ['글래디에이터', '9.41'],\n",
       " ['위대한 쇼맨', '9.41'],\n",
       " ['인생은 아름다워', '9.41'],\n",
       " ['살인의 추억', '9.41'],\n",
       " ['매트릭스', '9.40'],\n",
       " ['명탐정 코난: 할로윈의 신부', '9.40'],\n",
       " ['헬프', '9.40'],\n",
       " ['캐스트 어웨이', '9.40'],\n",
       " ['센과 치히로의 행방불명', '9.40'],\n",
       " ['태극권', '9.40'],\n",
       " ['토이 스토리 3', '9.39'],\n",
       " ['가나의 혼인잔치: 언약', '9.39'],\n",
       " ['쉰들러 리스트', '9.39'],\n",
       " ['헌터 킬러', '9.39'],\n",
       " ['반지의 제왕: 왕의 귀환', '9.39'],\n",
       " ['죽은 시인의 사회', '9.38'],\n",
       " ['히든 피겨스', '9.38'],\n",
       " ['어벤져스: 엔드게임', '9.38']]"
      ]
     },
     "execution_count": 14,
     "metadata": {},
     "output_type": "execute_result"
    }
   ],
   "source": [
    "#th_all = soup.find_all('th')\n",
    "#result = []\n",
    "#for th in th_all:\n",
    "#    result.extend(th.find_all(text='A'))\n",
    "\n",
    "\n",
    "import urllib\n",
    "from bs4 import BeautifulSoup\n",
    "from urllib.request import urlopen\n",
    "\n",
    "url = \"https://movie.naver.com/movie/sdb/rank/rmovie.naver?sel=pnt&date=20210808}\"\n",
    "\n",
    "page = urlopen(url)\n",
    "\n",
    "soup = BeautifulSoup(page, \"html.parser\")\n",
    "\n",
    "goods = []\n",
    "\n",
    "for n in range(50):\n",
    "    titles = soup.find_all('div', 'tit5')[n].a.string\n",
    "    points = soup.find_all('td', 'point')[n].string\n",
    "    goods.append([titles, points])\n",
    "\n",
    "goods"
   ]
  },
  {
   "cell_type": "code",
   "execution_count": 134,
   "id": "8b2b12c3",
   "metadata": {},
   "outputs": [
    {
     "data": {
      "text/plain": [
       "bs4.element.ResultSet"
      ]
     },
     "execution_count": 134,
     "metadata": {},
     "output_type": "execute_result"
    }
   ],
   "source": [
    "type(titles)"
   ]
  },
  {
   "cell_type": "code",
   "execution_count": 67,
   "id": "2a32c24f",
   "metadata": {},
   "outputs": [],
   "source": [
    "def delete_tag(input_str):\n",
    "    input_str = input_str.replace(\"<n>\", \"\")\n",
    "    input_str = input_str.replace(\"<\\n>\", \"\")\n",
    "    return input_str"
   ]
  },
  {
   "cell_type": "code",
   "execution_count": 116,
   "id": "6bd47e0a",
   "metadata": {},
   "outputs": [
    {
     "data": {
      "text/plain": [
       "['9.76',\n",
       " '9.67',\n",
       " '9.62',\n",
       " '9.61',\n",
       " '9.60',\n",
       " '9.59',\n",
       " '9.59',\n",
       " '9.54',\n",
       " '9.53',\n",
       " '9.53',\n",
       " '9.52',\n",
       " '9.51',\n",
       " '9.50',\n",
       " '9.49',\n",
       " '9.49',\n",
       " '9.47',\n",
       " '9.47',\n",
       " '9.46',\n",
       " '9.46',\n",
       " '9.45',\n",
       " '9.45',\n",
       " '9.44',\n",
       " '9.44',\n",
       " '9.43',\n",
       " '9.43',\n",
       " '9.42',\n",
       " '9.42',\n",
       " '9.42',\n",
       " '9.42',\n",
       " '9.42',\n",
       " '9.42',\n",
       " '9.41',\n",
       " '9.41',\n",
       " '9.41',\n",
       " '9.41',\n",
       " '9.41',\n",
       " '9.40',\n",
       " '9.40',\n",
       " '9.40',\n",
       " '9.40',\n",
       " '9.40',\n",
       " '9.40',\n",
       " '9.39',\n",
       " '9.39',\n",
       " '9.39',\n",
       " '9.39',\n",
       " '9.39',\n",
       " '9.38',\n",
       " '9.38',\n",
       " '9.38']"
      ]
     },
     "execution_count": 116,
     "metadata": {},
     "output_type": "execute_result"
    }
   ],
   "source": [
    "url = \"https://movie.naver.com/movie/sdb/rank/rmovie.naver?sel=pnt&date=20210808}\"\n",
    "\n",
    "page = urlopen(url)\n",
    "\n",
    "soup = BeautifulSoup(page, \"html.parser\")\n",
    "\n",
    "points = soup.find_all(class_='point')\n",
    "\n",
    "point_l = []\n",
    "\n",
    "for point in points :\n",
    "    point_l.append(point.text)\n",
    "    \n",
    "point_l"
   ]
  },
  {
   "cell_type": "code",
   "execution_count": 1,
   "id": "902d9da4",
   "metadata": {},
   "outputs": [
    {
     "ename": "NameError",
     "evalue": "name 'title_l' is not defined",
     "output_type": "error",
     "traceback": [
      "\u001b[0;31m---------------------------------------------------------------------------\u001b[0m",
      "\u001b[0;31mNameError\u001b[0m                                 Traceback (most recent call last)",
      "Cell \u001b[0;32mIn[1], line 1\u001b[0m\n\u001b[0;32m----> 1\u001b[0m temp \u001b[38;5;241m=\u001b[39m \u001b[38;5;28mlist\u001b[39m(\u001b[38;5;28mzip\u001b[39m(\u001b[43mtitle_l\u001b[49m, point_l))\n",
      "\u001b[0;31mNameError\u001b[0m: name 'title_l' is not defined"
     ]
    }
   ],
   "source": [
    "temp = list(zip(title_l, point_l))"
   ]
  }
 ],
 "metadata": {
  "kernelspec": {
   "display_name": "Python 3 (ipykernel)",
   "language": "python",
   "name": "python3"
  },
  "language_info": {
   "codemirror_mode": {
    "name": "ipython",
    "version": 3
   },
   "file_extension": ".py",
   "mimetype": "text/x-python",
   "name": "python",
   "nbconvert_exporter": "python",
   "pygments_lexer": "ipython3",
   "version": "3.8.10"
  }
 },
 "nbformat": 4,
 "nbformat_minor": 5
}
