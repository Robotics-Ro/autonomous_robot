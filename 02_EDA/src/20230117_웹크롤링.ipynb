{
 "cells": [
  {
   "cell_type": "code",
   "execution_count": 1,
   "id": "81c29c65",
   "metadata": {},
   "outputs": [],
   "source": [
    "from bs4 import BeautifulSoup"
   ]
  },
  {
   "cell_type": "code",
   "execution_count": 2,
   "id": "1b900ac9",
   "metadata": {},
   "outputs": [
    {
     "name": "stdout",
     "output_type": "stream",
     "text": [
      "<!DOCTYPE html>\n",
      "<html>\n",
      " <head>\n",
      "  <title>\n",
      "   Very Simple HTML Code by PinkWink\n",
      "  </title>\n",
      " </head>\n",
      " <body>\n",
      "  <div>\n",
      "   <p ==\"\" class=\"inner-text first-item\" id=\"first\">\n",
      "    Happy PinkWink.\n",
      "    <a href=\"http://www.pinkwink.kr\" id=\"pw-link\">\n",
      "     PinkWink\n",
      "    </a>\n",
      "   </p>\n",
      "   <p ==\"\" class=\"inner-text first-item\" id=\"plus\">\n",
      "    Happy Data Science\n",
      "    <a href=\"https://www.python.org/\" id=\"python\">\n",
      "     Python\n",
      "    </a>\n",
      "   </p>\n",
      "  </div>\n",
      "  <p class=\"outer-text first-item\" id=\"\" second\"=\"\">\n",
      "   <b>\n",
      "    Data science is funny.\n",
      "   </b>\n",
      "  </p>\n",
      "  <p class=\"\" outer-text\"=\"\">\n",
      "   <b>\n",
      "    All I need is Love.\n",
      "   </b>\n",
      "  </p>\n",
      " </body>\n",
      "</html>\n"
     ]
    }
   ],
   "source": [
    "page = open(\"test.html\", \"r\").read()\n",
    "soup = BeautifulSoup(page, \"html.parser\")\n",
    "print(soup.prettify())"
   ]
  },
  {
   "cell_type": "code",
   "execution_count": 3,
   "id": "f4561e15",
   "metadata": {},
   "outputs": [
    {
     "data": {
      "text/plain": [
       "<body>\n",
       "<div>\n",
       "<p ==\"\" class=\"inner-text first-item\" id=\"first\">\n",
       "            Happy PinkWink.\n",
       "            <a href=\"http://www.pinkwink.kr\" id=\"pw-link\">PinkWink</a>\n",
       "</p>\n",
       "<p ==\"\" class=\"inner-text first-item\" id=\"plus\">\n",
       "            Happy Data Science\n",
       "            <a href=\"https://www.python.org/\" id=\"python\">Python</a>\n",
       "</p>\n",
       "</div>\n",
       "<p class=\"outer-text first-item\" id=\"\" second\"=\"\">\n",
       "<b>\n",
       "                Data science is funny.\n",
       "            </b>\n",
       "</p>\n",
       "<p class=\"\" outer-text\"=\"\">\n",
       "<b>\n",
       "                All I need is Love.\n",
       "            </b>\n",
       "</p>\n",
       "</body>"
      ]
     },
     "execution_count": 3,
     "metadata": {},
     "output_type": "execute_result"
    }
   ],
   "source": [
    "soup.body"
   ]
  },
  {
   "cell_type": "code",
   "execution_count": 4,
   "id": "b0a9ee2b",
   "metadata": {},
   "outputs": [
    {
     "data": {
      "text/plain": [
       "<p ==\"\" class=\"inner-text first-item\" id=\"first\">\n",
       "            Happy PinkWink.\n",
       "            <a href=\"http://www.pinkwink.kr\" id=\"pw-link\">PinkWink</a>\n",
       "</p>"
      ]
     },
     "execution_count": 4,
     "metadata": {},
     "output_type": "execute_result"
    }
   ],
   "source": [
    "soup.find(\"p\")"
   ]
  },
  {
   "cell_type": "code",
   "execution_count": 5,
   "id": "2e33f50a",
   "metadata": {},
   "outputs": [
    {
     "data": {
      "text/plain": [
       "[<p ==\"\" class=\"inner-text first-item\" id=\"first\">\n",
       "             Happy PinkWink.\n",
       "             <a href=\"http://www.pinkwink.kr\" id=\"pw-link\">PinkWink</a>\n",
       " </p>,\n",
       " <p ==\"\" class=\"inner-text first-item\" id=\"plus\">\n",
       "             Happy Data Science\n",
       "             <a href=\"https://www.python.org/\" id=\"python\">Python</a>\n",
       " </p>,\n",
       " <p class=\"outer-text first-item\" id=\"\" second\"=\"\">\n",
       " <b>\n",
       "                 Data science is funny.\n",
       "             </b>\n",
       " </p>,\n",
       " <p class=\"\" outer-text\"=\"\">\n",
       " <b>\n",
       "                 All I need is Love.\n",
       "             </b>\n",
       " </p>]"
      ]
     },
     "execution_count": 5,
     "metadata": {},
     "output_type": "execute_result"
    }
   ],
   "source": [
    "soup.find_all(\"p\")"
   ]
  },
  {
   "cell_type": "code",
   "execution_count": 6,
   "id": "09739511",
   "metadata": {},
   "outputs": [
    {
     "data": {
      "text/plain": [
       "[<p class=\"outer-text first-item\" id=\"\" second\"=\"\">\n",
       " <b>\n",
       "                 Data science is funny.\n",
       "             </b>\n",
       " </p>]"
      ]
     },
     "execution_count": 6,
     "metadata": {},
     "output_type": "execute_result"
    }
   ],
   "source": [
    "soup.find_all(class_=\"outer-text\")"
   ]
  },
  {
   "cell_type": "code",
   "execution_count": 7,
   "id": "40f1c1b8",
   "metadata": {},
   "outputs": [
    {
     "data": {
      "text/plain": [
       "[<p ==\"\" class=\"inner-text first-item\" id=\"first\">\n",
       "             Happy PinkWink.\n",
       "             <a href=\"http://www.pinkwink.kr\" id=\"pw-link\">PinkWink</a>\n",
       " </p>]"
      ]
     },
     "execution_count": 7,
     "metadata": {},
     "output_type": "execute_result"
    }
   ],
   "source": [
    "soup.find_all(id=\"first\")"
   ]
  },
  {
   "cell_type": "code",
   "execution_count": 16,
   "id": "5ed02a61",
   "metadata": {},
   "outputs": [
    {
     "name": "stdout",
     "output_type": "stream",
     "text": [
      "----------------------\n",
      "\n",
      "            Happy PinkWink.\n",
      "            PinkWink\n",
      "\n",
      "----------------------\n",
      "\n",
      "            Happy Data Science\n",
      "            Python\n",
      "\n",
      "----------------------\n",
      "\n",
      "\n",
      "                Data science is funny.\n",
      "            \n",
      "\n",
      "----------------------\n",
      "\n",
      "\n",
      "                All I need is Love.\n",
      "            \n",
      "\n"
     ]
    }
   ],
   "source": [
    "for each_tag in soup.find_all(\"p\"):\n",
    "    print(\"----------------------\")\n",
    "    print(each_tag.get_text())"
   ]
  },
  {
   "cell_type": "code",
   "execution_count": 12,
   "id": "0fa309c1",
   "metadata": {},
   "outputs": [
    {
     "data": {
      "text/plain": [
       "[<a href=\"http://www.pinkwink.kr\" id=\"pw-link\">PinkWink</a>,\n",
       " <a href=\"https://www.python.org/\" id=\"python\">Python</a>]"
      ]
     },
     "execution_count": 12,
     "metadata": {},
     "output_type": "execute_result"
    }
   ],
   "source": [
    "links = soup.find_all(\"a\")\n",
    "links"
   ]
  },
  {
   "cell_type": "code",
   "execution_count": 17,
   "id": "345a4cce",
   "metadata": {},
   "outputs": [
    {
     "name": "stdout",
     "output_type": "stream",
     "text": [
      "----------------------\n",
      "PinkWink\n",
      "----------------------\n",
      "Python\n"
     ]
    }
   ],
   "source": [
    "for each_tag in soup.find_all(\"a\"):\n",
    "    print(\"----------------------\")\n",
    "    print(each_tag.string)"
   ]
  },
  {
   "cell_type": "code",
   "execution_count": null,
   "id": "2a9d41c1",
   "metadata": {},
   "outputs": [],
   "source": [
    "for each in links:\n",
    "    href = each[\"href\"]\n",
    "    text = each.string\n",
    "    print(text + \" -> \" + href)"
   ]
  },
  {
   "cell_type": "code",
   "execution_count": null,
   "id": "f3c167d0",
   "metadata": {},
   "outputs": [],
   "source": [
    "from urllib.request import urlopen"
   ]
  },
  {
   "cell_type": "code",
   "execution_count": null,
   "id": "cd8f0590",
   "metadata": {},
   "outputs": [],
   "source": [
    "url = \"https://finance.naver.com/marketindex\"\n",
    "page = urlopen(url)\n",
    "\n",
    "soup = BeautifulSoup(page, \"html.parser\")\n",
    "\n",
    "print(soup.prettify())"
   ]
  },
  {
   "cell_type": "code",
   "execution_count": null,
   "id": "00edd6e2",
   "metadata": {},
   "outputs": [],
   "source": [
    "Ex_Rate = soup.find_all(\"span\", \"value\")[0].string"
   ]
  },
  {
   "cell_type": "code",
   "execution_count": null,
   "id": "64a1f269",
   "metadata": {},
   "outputs": [],
   "source": [
    "Ex_Rate"
   ]
  },
  {
   "cell_type": "code",
   "execution_count": null,
   "id": "6bc8251c",
   "metadata": {},
   "outputs": [],
   "source": [
    "url = \"https://ko.wikipedia.org/wiki/%EC%97%AC%EB%AA%85%EC%9D%98_%EB%88%88%EB%8F%99%EC%9E%90\"\n",
    "page = urlopen(url)\n",
    "\n",
    "soup = BeautifulSoup(page, \"html.parser\")\n",
    "\n",
    "print(soup.prettify())"
   ]
  },
  {
   "cell_type": "code",
   "execution_count": null,
   "id": "b94d6705",
   "metadata": {},
   "outputs": [],
   "source": [
    "import urllib\n",
    "from urllib.request import Request\n",
    "\n",
    "url = \"https://ko.wikipedia.org/wiki/{search_words}\"\n",
    "req = Request(url.format(search_words=urllib.parse.quote(\"여명의_눈동자\")))\n",
    "res = urlopen(req)\n",
    "\n",
    "soup = BeautifulSoup(res, \"html.parser\")\n",
    "\n",
    "print(soup.prettify())"
   ]
  },
  {
   "cell_type": "code",
   "execution_count": null,
   "id": "d7b2715d",
   "metadata": {},
   "outputs": [],
   "source": [
    "n = 0\n",
    "\n",
    "for each in soup.find_all('ul'):\n",
    "    print(\"[\" + str(n) + \"] ====================================\")\n",
    "    print(each)\n",
    "    n = n + 1"
   ]
  },
  {
   "cell_type": "code",
   "execution_count": null,
   "id": "8560f4e3",
   "metadata": {},
   "outputs": [],
   "source": [
    "soup.find_all(\"ul\")[2]"
   ]
  },
  {
   "cell_type": "code",
   "execution_count": null,
   "id": "d940987e",
   "metadata": {},
   "outputs": [],
   "source": [
    "soup.find_all(\"ul\")"
   ]
  },
  {
   "cell_type": "code",
   "execution_count": null,
   "id": "a0f5ea03",
   "metadata": {},
   "outputs": [],
   "source": [
    "colors = [ 'red', 'blue', 'green']\n",
    "\n",
    "print(colors[0])\n",
    "print(colors[2])\n",
    "print(len(colors))"
   ]
  },
  {
   "cell_type": "code",
   "execution_count": null,
   "id": "84d2411d",
   "metadata": {},
   "outputs": [],
   "source": [
    "movies = ['그린 북', '가버나움', '디지몬 어드벤처 라스트 에볼루션:인연', '먼 훗날 우리']\n",
    "print(movies)"
   ]
  },
  {
   "cell_type": "code",
   "execution_count": null,
   "id": "e1f6afa0",
   "metadata": {},
   "outputs": [],
   "source": [
    "movies.append('원더')\n",
    "print(movies)"
   ]
  },
  {
   "cell_type": "code",
   "execution_count": null,
   "id": "d78ee929",
   "metadata": {},
   "outputs": [],
   "source": [
    "movies.pop()\n",
    "print(movies)"
   ]
  },
  {
   "cell_type": "code",
   "execution_count": null,
   "id": "7e01dc0d",
   "metadata": {},
   "outputs": [],
   "source": [
    "movies.pop()\n",
    "print(movies)"
   ]
  },
  {
   "cell_type": "code",
   "execution_count": null,
   "id": "ea39f5ad",
   "metadata": {},
   "outputs": [],
   "source": [
    "movies.extend(['원더', '슐루우'])\n",
    "print(movies)"
   ]
  },
  {
   "cell_type": "code",
   "execution_count": null,
   "id": "d911bf8a",
   "metadata": {},
   "outputs": [],
   "source": [
    "print(movies[3:5])"
   ]
  },
  {
   "cell_type": "code",
   "execution_count": null,
   "id": "42b84618",
   "metadata": {},
   "outputs": [],
   "source": [
    "favorite_movies = movies[0:3]\n",
    "print(favorite_movies)"
   ]
  },
  {
   "cell_type": "code",
   "execution_count": null,
   "id": "90714d38",
   "metadata": {},
   "outputs": [],
   "source": [
    "print(movies)"
   ]
  },
  {
   "cell_type": "code",
   "execution_count": null,
   "id": "814fdc71",
   "metadata": {},
   "outputs": [],
   "source": [
    "favorite_movies.insert(1, 9.60)"
   ]
  },
  {
   "cell_type": "code",
   "execution_count": null,
   "id": "f8388dba",
   "metadata": {},
   "outputs": [],
   "source": [
    "print(favorite_movies)"
   ]
  },
  {
   "cell_type": "code",
   "execution_count": null,
   "id": "f0336dac",
   "metadata": {},
   "outputs": [],
   "source": [
    "url = \"https://movie.naver.com/movie/sdb/rank/rmovie.naver?sel=pnt&date=20210808}\"\n",
    "\n",
    "res = urlopen(req)\n",
    "\n",
    "soup = BeautifulSoup(res, \"html.parser\")\n",
    "\n",
    "print(soup.prettify())"
   ]
  },
  {
   "cell_type": "code",
   "execution_count": null,
   "id": "cc8a0529",
   "metadata": {},
   "outputs": [],
   "source": []
  }
 ],
 "metadata": {
  "kernelspec": {
   "display_name": "data_venv",
   "language": "python",
   "name": "python3"
  },
  "language_info": {
   "codemirror_mode": {
    "name": "ipython",
    "version": 3
   },
   "file_extension": ".py",
   "mimetype": "text/x-python",
   "name": "python",
   "nbconvert_exporter": "python",
   "pygments_lexer": "ipython3",
   "version": "3.8.10 (default, Nov 14 2022, 12:59:47) \n[GCC 9.4.0]"
  },
  "vscode": {
   "interpreter": {
    "hash": "6288ecbda94c44731bd517e8e3a9546afeba19dde6c58790bc825d76b6fd82c6"
   }
  }
 },
 "nbformat": 4,
 "nbformat_minor": 5
}
